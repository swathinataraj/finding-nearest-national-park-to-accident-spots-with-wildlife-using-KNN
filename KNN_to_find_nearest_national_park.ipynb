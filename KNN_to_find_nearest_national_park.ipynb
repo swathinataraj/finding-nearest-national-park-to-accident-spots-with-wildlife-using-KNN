{
 "cells": [
  {
   "cell_type": "code",
   "execution_count": 2,
   "metadata": {},
   "outputs": [],
   "source": [
    "%matplotlib inline\n",
    "import matplotlib.pyplot as plt\n",
    "import seaborn as sns; sns.set()  # for plot styling\n",
    "import numpy as np\n",
    "import pandas as pd\n",
    "\n",
    "from shapely.geometry import Point, MultiPoint\n",
    "from shapely.ops import nearest_points"
   ]
  },
  {
   "cell_type": "code",
   "execution_count": 3,
   "metadata": {},
   "outputs": [],
   "source": [
    "new_accidents = pd.read_csv(\"ACCIDENTS_AND_LOCATIONS.csv\")"
   ]
  },
  {
   "cell_type": "code",
   "execution_count": 4,
   "metadata": {
    "scrolled": true
   },
   "outputs": [
    {
     "data": {
      "text/html": [
       "<div>\n",
       "<style scoped>\n",
       "    .dataframe tbody tr th:only-of-type {\n",
       "        vertical-align: middle;\n",
       "    }\n",
       "\n",
       "    .dataframe tbody tr th {\n",
       "        vertical-align: top;\n",
       "    }\n",
       "\n",
       "    .dataframe thead th {\n",
       "        text-align: right;\n",
       "    }\n",
       "</style>\n",
       "<table border=\"1\" class=\"dataframe\">\n",
       "  <thead>\n",
       "    <tr style=\"text-align: right;\">\n",
       "      <th></th>\n",
       "      <th>ACCIDENT_NO</th>\n",
       "      <th>ACCIDENT_DATE</th>\n",
       "      <th>ACCIDENT_TIME</th>\n",
       "      <th>ACCIDENT_TYPE</th>\n",
       "      <th>ACCIDENT_TYPE_DESC</th>\n",
       "      <th>DAY_OF_WEEK</th>\n",
       "      <th>DAY_WEEK_DESC</th>\n",
       "      <th>DCA_CODE</th>\n",
       "      <th>DCA_DESC</th>\n",
       "      <th>DIRECTORY</th>\n",
       "      <th>...</th>\n",
       "      <th>NODE_ID_y</th>\n",
       "      <th>NODE_TYPE</th>\n",
       "      <th>AMG_X</th>\n",
       "      <th>AMG_Y</th>\n",
       "      <th>LG_AREA_NAME</th>\n",
       "      <th>REGION_NAME</th>\n",
       "      <th>DEG_URBAN_NAME</th>\n",
       "      <th>LATITUDE</th>\n",
       "      <th>LONGITUDE</th>\n",
       "      <th>POSTCODE</th>\n",
       "    </tr>\n",
       "  </thead>\n",
       "  <tbody>\n",
       "    <tr>\n",
       "      <th>0</th>\n",
       "      <td>12000033773</td>\n",
       "      <td>7/10/2000</td>\n",
       "      <td>18.10.00</td>\n",
       "      <td>3</td>\n",
       "      <td>Struck animal</td>\n",
       "      <td>7</td>\n",
       "      <td>Saturday</td>\n",
       "      <td>167</td>\n",
       "      <td>STRUCK ANIMAL</td>\n",
       "      <td>MEL</td>\n",
       "      <td>...</td>\n",
       "      <td>29360.0</td>\n",
       "      <td>N</td>\n",
       "      <td>2497770.513</td>\n",
       "      <td>2413464.984</td>\n",
       "      <td>MORELAND</td>\n",
       "      <td>METROPOLITAN NORTH WEST REGION</td>\n",
       "      <td>Metropolitan Excluding CBD</td>\n",
       "      <td>-37.77979</td>\n",
       "      <td>144.97469</td>\n",
       "      <td>3054.0</td>\n",
       "    </tr>\n",
       "    <tr>\n",
       "      <th>1</th>\n",
       "      <td>12001001925</td>\n",
       "      <td>3/01/2001</td>\n",
       "      <td>20.50.00</td>\n",
       "      <td>3</td>\n",
       "      <td>Struck animal</td>\n",
       "      <td>4</td>\n",
       "      <td>Wednesday</td>\n",
       "      <td>167</td>\n",
       "      <td>STRUCK ANIMAL</td>\n",
       "      <td>MEL</td>\n",
       "      <td>...</td>\n",
       "      <td>131904.0</td>\n",
       "      <td>N</td>\n",
       "      <td>2509892.996</td>\n",
       "      <td>2396930.786</td>\n",
       "      <td>KINGSTON</td>\n",
       "      <td>METROPOLITAN SOUTH EAST REGION</td>\n",
       "      <td>Metropolitan Excluding CBD</td>\n",
       "      <td>-37.92871</td>\n",
       "      <td>145.11253</td>\n",
       "      <td>3169.0</td>\n",
       "    </tr>\n",
       "    <tr>\n",
       "      <th>2</th>\n",
       "      <td>12002039926</td>\n",
       "      <td>27/11/2002</td>\n",
       "      <td>10.30.00</td>\n",
       "      <td>3</td>\n",
       "      <td>Struck animal</td>\n",
       "      <td>4</td>\n",
       "      <td>Wednesday</td>\n",
       "      <td>167</td>\n",
       "      <td>STRUCK ANIMAL</td>\n",
       "      <td>MEL</td>\n",
       "      <td>...</td>\n",
       "      <td>141933.0</td>\n",
       "      <td>N</td>\n",
       "      <td>2501578.512</td>\n",
       "      <td>2405417.670</td>\n",
       "      <td>STONNINGTON</td>\n",
       "      <td>METROPOLITAN SOUTH EAST REGION</td>\n",
       "      <td>Metropolitan Excluding CBD</td>\n",
       "      <td>-37.85230</td>\n",
       "      <td>145.01794</td>\n",
       "      <td>3143.0</td>\n",
       "    </tr>\n",
       "    <tr>\n",
       "      <th>3</th>\n",
       "      <td>12004005492</td>\n",
       "      <td>1/02/2004</td>\n",
       "      <td>19.45.00</td>\n",
       "      <td>3</td>\n",
       "      <td>Struck animal</td>\n",
       "      <td>1</td>\n",
       "      <td>Sunday</td>\n",
       "      <td>167</td>\n",
       "      <td>STRUCK ANIMAL</td>\n",
       "      <td>MEL</td>\n",
       "      <td>...</td>\n",
       "      <td>37458.0</td>\n",
       "      <td>I</td>\n",
       "      <td>2495332.798</td>\n",
       "      <td>2406005.117</td>\n",
       "      <td>PORT PHILLIP</td>\n",
       "      <td>METROPOLITAN NORTH WEST REGION</td>\n",
       "      <td>Metropolitan Excluding CBD</td>\n",
       "      <td>-37.84700</td>\n",
       "      <td>144.94697</td>\n",
       "      <td>3206.0</td>\n",
       "    </tr>\n",
       "    <tr>\n",
       "      <th>4</th>\n",
       "      <td>12004009462</td>\n",
       "      <td>6/02/2004</td>\n",
       "      <td>19.30.00</td>\n",
       "      <td>3</td>\n",
       "      <td>Struck animal</td>\n",
       "      <td>6</td>\n",
       "      <td>Friday</td>\n",
       "      <td>167</td>\n",
       "      <td>STRUCK ANIMAL</td>\n",
       "      <td>MEL</td>\n",
       "      <td>...</td>\n",
       "      <td>48932.0</td>\n",
       "      <td>I</td>\n",
       "      <td>2499173.999</td>\n",
       "      <td>2405185.091</td>\n",
       "      <td>STONNINGTON</td>\n",
       "      <td>METROPOLITAN SOUTH EAST REGION</td>\n",
       "      <td>Metropolitan Excluding CBD</td>\n",
       "      <td>-37.85440</td>\n",
       "      <td>144.99061</td>\n",
       "      <td>3181.0</td>\n",
       "    </tr>\n",
       "  </tbody>\n",
       "</table>\n",
       "<p>5 rows × 38 columns</p>\n",
       "</div>"
      ],
      "text/plain": [
       "   ACCIDENT_NO ACCIDENT_DATE ACCIDENT_TIME  ACCIDENT_TYPE ACCIDENT_TYPE_DESC  \\\n",
       "0  12000033773     7/10/2000      18.10.00              3      Struck animal   \n",
       "1  12001001925     3/01/2001      20.50.00              3      Struck animal   \n",
       "2  12002039926    27/11/2002      10.30.00              3      Struck animal   \n",
       "3  12004005492     1/02/2004      19.45.00              3      Struck animal   \n",
       "4  12004009462     6/02/2004      19.30.00              3      Struck animal   \n",
       "\n",
       "   DAY_OF_WEEK DAY_WEEK_DESC  DCA_CODE                               DCA_DESC  \\\n",
       "0            7      Saturday       167  STRUCK ANIMAL                           \n",
       "1            4     Wednesday       167  STRUCK ANIMAL                           \n",
       "2            4     Wednesday       167  STRUCK ANIMAL                           \n",
       "3            1        Sunday       167  STRUCK ANIMAL                           \n",
       "4            6        Friday       167  STRUCK ANIMAL                           \n",
       "\n",
       "  DIRECTORY    ...    NODE_ID_y NODE_TYPE        AMG_X        AMG_Y  \\\n",
       "0       MEL    ...      29360.0         N  2497770.513  2413464.984   \n",
       "1       MEL    ...     131904.0         N  2509892.996  2396930.786   \n",
       "2       MEL    ...     141933.0         N  2501578.512  2405417.670   \n",
       "3       MEL    ...      37458.0         I  2495332.798  2406005.117   \n",
       "4       MEL    ...      48932.0         I  2499173.999  2405185.091   \n",
       "\n",
       "   LG_AREA_NAME                     REGION_NAME              DEG_URBAN_NAME  \\\n",
       "0      MORELAND  METROPOLITAN NORTH WEST REGION  Metropolitan Excluding CBD   \n",
       "1      KINGSTON  METROPOLITAN SOUTH EAST REGION  Metropolitan Excluding CBD   \n",
       "2   STONNINGTON  METROPOLITAN SOUTH EAST REGION  Metropolitan Excluding CBD   \n",
       "3  PORT PHILLIP  METROPOLITAN NORTH WEST REGION  Metropolitan Excluding CBD   \n",
       "4   STONNINGTON  METROPOLITAN SOUTH EAST REGION  Metropolitan Excluding CBD   \n",
       "\n",
       "   LATITUDE  LONGITUDE  POSTCODE  \n",
       "0 -37.77979  144.97469    3054.0  \n",
       "1 -37.92871  145.11253    3169.0  \n",
       "2 -37.85230  145.01794    3143.0  \n",
       "3 -37.84700  144.94697    3206.0  \n",
       "4 -37.85440  144.99061    3181.0  \n",
       "\n",
       "[5 rows x 38 columns]"
      ]
     },
     "execution_count": 4,
     "metadata": {},
     "output_type": "execute_result"
    }
   ],
   "source": [
    "new_accidents.head()"
   ]
  },
  {
   "cell_type": "code",
   "execution_count": 5,
   "metadata": {},
   "outputs": [
    {
     "data": {
      "text/plain": [
       "Index(['ACCIDENT_NO', 'ACCIDENT_DATE', 'ACCIDENT_TIME', 'ACCIDENT_TYPE',\n",
       "       'ACCIDENT_TYPE_DESC', 'DAY_OF_WEEK', 'DAY_WEEK_DESC', 'DCA_CODE',\n",
       "       'DCA_DESC', 'DIRECTORY', 'EDITION', 'PAGE', 'GRID_REFERENCE_X',\n",
       "       'GRID_REFERENCE_Y', 'LIGHT_CONDITION', 'LIGHT_CONDITION_DESC',\n",
       "       'NODE_ID_x', 'NO_OF_VEHICLES', 'NO_PERSONS', 'NO_PERSONS_INJ_2',\n",
       "       'NO_PERSONS_INJ_3', 'NO_PERSONS_KILLED', 'NO_PERSONS_NOT_INJ',\n",
       "       'POLICE_ATTEND', 'ROAD_GEOMETRY', 'ROAD_GEOMETRY_DESC', 'SEVERITY',\n",
       "       'SPEED_ZONE', 'NODE_ID_y', 'NODE_TYPE', 'AMG_X', 'AMG_Y',\n",
       "       'LG_AREA_NAME', 'REGION_NAME', 'DEG_URBAN_NAME', 'LATITUDE',\n",
       "       'LONGITUDE', 'POSTCODE'],\n",
       "      dtype='object')"
      ]
     },
     "execution_count": 5,
     "metadata": {},
     "output_type": "execute_result"
    }
   ],
   "source": [
    "new_accidents.columns"
   ]
  },
  {
   "cell_type": "code",
   "execution_count": 6,
   "metadata": {},
   "outputs": [
    {
     "data": {
      "text/plain": [
       "{'Country',\n",
       " 'LARGE_PROVINCIAL_CITIES',\n",
       " 'Large Provincial Cities',\n",
       " 'MELB_URBAN',\n",
       " 'Metropolitan Excluding CBD',\n",
       " 'Other Towns',\n",
       " 'RURAL_VICTORIA',\n",
       " 'SMALL_CITIES',\n",
       " 'SMALL_TOWNS',\n",
       " 'Small Provincial Cities',\n",
       " 'Small Towns',\n",
       " 'TOWNS',\n",
       " nan}"
      ]
     },
     "execution_count": 6,
     "metadata": {},
     "output_type": "execute_result"
    }
   ],
   "source": [
    "set(new_accidents.DEG_URBAN_NAME.tolist())"
   ]
  },
  {
   "cell_type": "code",
   "execution_count": 7,
   "metadata": {},
   "outputs": [],
   "source": [
    "rural_accidents = new_accidents.loc[new_accidents['DEG_URBAN_NAME'].isin([\"RURAL_VICTORIA\",\"SMALL_TOWNS\",\"Country\",\"Small Towns\"])]\n"
   ]
  },
  {
   "cell_type": "code",
   "execution_count": 8,
   "metadata": {},
   "outputs": [
    {
     "data": {
      "text/plain": [
       "{' ',\n",
       " '(MOUNT BULLER)',\n",
       " '(MOUNT STIRLING)',\n",
       " 'ALPINE',\n",
       " 'ARARAT',\n",
       " 'BALLARAT',\n",
       " 'BASS COAST',\n",
       " 'BAW BAW',\n",
       " 'BENALLA',\n",
       " 'BENDIGO',\n",
       " 'BRIMBANK',\n",
       " 'BULOKE',\n",
       " 'CAMPASPE',\n",
       " 'CARDINIA',\n",
       " 'CASEY',\n",
       " 'CENTRAL GOLDFIELDS',\n",
       " 'COLAC OTWAY',\n",
       " 'CORANGAMITE',\n",
       " 'EAST GIPPSLAND',\n",
       " 'GANNAWARRA',\n",
       " 'GEELONG',\n",
       " 'GLENELG',\n",
       " 'GOLDEN PLAINS',\n",
       " 'HEPBURN',\n",
       " 'HINDMARSH',\n",
       " 'HORSHAM',\n",
       " 'HUME',\n",
       " 'INDIGO',\n",
       " 'KNOX',\n",
       " 'LATROBE',\n",
       " 'LODDON',\n",
       " 'MACEDON RANGES',\n",
       " 'MANNINGHAM',\n",
       " 'MANSFIELD',\n",
       " 'MELTON',\n",
       " 'MILDURA',\n",
       " 'MITCHELL',\n",
       " 'MOIRA',\n",
       " 'MOORABOOL',\n",
       " 'MORNINGTON PENINSULA',\n",
       " 'MOUNT ALEXANDER',\n",
       " 'MOYNE',\n",
       " 'MURRINDINDI',\n",
       " 'NILLUMBIK',\n",
       " 'NORTHERN GRAMPIANS',\n",
       " 'PYRENEES',\n",
       " 'SHEPPARTON',\n",
       " 'SOUTH GIPPSLAND',\n",
       " 'SOUTHERN GRAMPIANS',\n",
       " 'STRATHBOGIE',\n",
       " 'SURF COAST',\n",
       " 'SWAN HILL',\n",
       " 'TOWONG',\n",
       " 'WANGARATTA',\n",
       " 'WARRNAMBOOL',\n",
       " 'WELLINGTON',\n",
       " 'WEST WIMMERA',\n",
       " 'WHITTLESEA',\n",
       " 'WODONGA',\n",
       " 'WYNDHAM',\n",
       " 'YARRA RANGES',\n",
       " 'YARRIAMBIACK'}"
      ]
     },
     "execution_count": 8,
     "metadata": {},
     "output_type": "execute_result"
    }
   ],
   "source": [
    "set(rural_accidents.LG_AREA_NAME.tolist())"
   ]
  },
  {
   "cell_type": "code",
   "execution_count": 9,
   "metadata": {},
   "outputs": [
    {
     "name": "stdout",
     "output_type": "stream",
     "text": [
      "<class 'pandas.core.frame.DataFrame'>\n",
      "Int64Index: 2016 entries, 5 to 2374\n",
      "Data columns (total 38 columns):\n",
      "ACCIDENT_NO             2016 non-null object\n",
      "ACCIDENT_DATE           2016 non-null object\n",
      "ACCIDENT_TIME           2016 non-null object\n",
      "ACCIDENT_TYPE           2016 non-null int64\n",
      "ACCIDENT_TYPE_DESC      2016 non-null object\n",
      "DAY_OF_WEEK             2016 non-null int64\n",
      "DAY_WEEK_DESC           2016 non-null object\n",
      "DCA_CODE                2016 non-null int64\n",
      "DCA_DESC                2016 non-null object\n",
      "DIRECTORY               2016 non-null object\n",
      "EDITION                 2016 non-null object\n",
      "PAGE                    2016 non-null object\n",
      "GRID_REFERENCE_X        2016 non-null object\n",
      "GRID_REFERENCE_Y        2016 non-null object\n",
      "LIGHT_CONDITION         2016 non-null int64\n",
      "LIGHT_CONDITION_DESC    2016 non-null object\n",
      "NODE_ID_x               2016 non-null int64\n",
      "NO_OF_VEHICLES          2016 non-null int64\n",
      "NO_PERSONS              2016 non-null int64\n",
      "NO_PERSONS_INJ_2        2016 non-null int64\n",
      "NO_PERSONS_INJ_3        2016 non-null int64\n",
      "NO_PERSONS_KILLED       2016 non-null int64\n",
      "NO_PERSONS_NOT_INJ      2016 non-null int64\n",
      "POLICE_ATTEND           2016 non-null int64\n",
      "ROAD_GEOMETRY           2016 non-null int64\n",
      "ROAD_GEOMETRY_DESC      2016 non-null object\n",
      "SEVERITY                2016 non-null int64\n",
      "SPEED_ZONE              2016 non-null int64\n",
      "NODE_ID_y               2016 non-null float64\n",
      "NODE_TYPE               2016 non-null object\n",
      "AMG_X                   2016 non-null float64\n",
      "AMG_Y                   2016 non-null float64\n",
      "LG_AREA_NAME            2016 non-null object\n",
      "REGION_NAME             2016 non-null object\n",
      "DEG_URBAN_NAME          2016 non-null object\n",
      "LATITUDE                2016 non-null float64\n",
      "LONGITUDE               2016 non-null float64\n",
      "POSTCODE                2016 non-null float64\n",
      "dtypes: float64(6), int64(15), object(17)\n",
      "memory usage: 614.2+ KB\n"
     ]
    }
   ],
   "source": [
    "rural_accidents.info()"
   ]
  },
  {
   "cell_type": "code",
   "execution_count": 11,
   "metadata": {},
   "outputs": [
    {
     "name": "stderr",
     "output_type": "stream",
     "text": [
      "/Applications/anaconda3/lib/python3.7/site-packages/pandas/core/generic.py:5890: SettingWithCopyWarning: \n",
      "A value is trying to be set on a copy of a slice from a DataFrame\n",
      "\n",
      "See the caveats in the documentation: http://pandas.pydata.org/pandas-docs/stable/indexing.html#indexing-view-versus-copy\n",
      "  self._update_inplace(new_data)\n"
     ]
    }
   ],
   "source": [
    "rural_accidents.DEG_URBAN_NAME.replace(['Country', 'Small Towns'], ['RURAL_VICTORIA', 'SMALL_TOWNS'], inplace=True)\n"
   ]
  },
  {
   "cell_type": "code",
   "execution_count": 12,
   "metadata": {},
   "outputs": [
    {
     "data": {
      "text/plain": [
       "{'RURAL_VICTORIA', 'SMALL_TOWNS'}"
      ]
     },
     "execution_count": 12,
     "metadata": {},
     "output_type": "execute_result"
    }
   ],
   "source": [
    "set(rural_accidents.DEG_URBAN_NAME.tolist())"
   ]
  },
  {
   "cell_type": "code",
   "execution_count": 13,
   "metadata": {},
   "outputs": [],
   "source": [
    "locations_array = rural_accidents[['LATITUDE', 'LONGITUDE']].values"
   ]
  },
  {
   "cell_type": "code",
   "execution_count": 14,
   "metadata": {},
   "outputs": [
    {
     "data": {
      "text/plain": [
       "array([[-38.20817, 143.25117],\n",
       "       [-38.7155 , 143.71346],\n",
       "       [-37.85217, 142.27234],\n",
       "       ...,\n",
       "       [-38.09038, 145.465  ],\n",
       "       [-37.22717, 145.01523],\n",
       "       [-37.61945, 146.62868]])"
      ]
     },
     "execution_count": 14,
     "metadata": {},
     "output_type": "execute_result"
    }
   ],
   "source": [
    "locations_array"
   ]
  },
  {
   "cell_type": "code",
   "execution_count": 16,
   "metadata": {},
   "outputs": [],
   "source": [
    "national_parks = pd.read_csv(\"national_park.csv\")"
   ]
  },
  {
   "cell_type": "code",
   "execution_count": 17,
   "metadata": {},
   "outputs": [
    {
     "data": {
      "text/html": [
       "<div>\n",
       "<style scoped>\n",
       "    .dataframe tbody tr th:only-of-type {\n",
       "        vertical-align: middle;\n",
       "    }\n",
       "\n",
       "    .dataframe tbody tr th {\n",
       "        vertical-align: top;\n",
       "    }\n",
       "\n",
       "    .dataframe thead th {\n",
       "        text-align: right;\n",
       "    }\n",
       "</style>\n",
       "<table border=\"1\" class=\"dataframe\">\n",
       "  <thead>\n",
       "    <tr style=\"text-align: right;\">\n",
       "      <th></th>\n",
       "      <th>Name</th>\n",
       "      <th>TYPE ABBR</th>\n",
       "      <th>IUCN</th>\n",
       "      <th>Gazetted Area (ha)</th>\n",
       "      <th>Area (ha)</th>\n",
       "      <th>Declared</th>\n",
       "      <th>Latest Gazettal</th>\n",
       "      <th>Longitude</th>\n",
       "      <th>Latitude</th>\n",
       "      <th>IBRA Regions</th>\n",
       "    </tr>\n",
       "  </thead>\n",
       "  <tbody>\n",
       "    <tr>\n",
       "      <th>41</th>\n",
       "      <td>The Lakes National Park</td>\n",
       "      <td>NP</td>\n",
       "      <td>II</td>\n",
       "      <td>2,405</td>\n",
       "      <td>2,405</td>\n",
       "      <td>30/10/56</td>\n",
       "      <td>20/12/01</td>\n",
       "      <td>147.6670</td>\n",
       "      <td>-37.9876</td>\n",
       "      <td>SCP</td>\n",
       "    </tr>\n",
       "    <tr>\n",
       "      <th>42</th>\n",
       "      <td>Warby-Ovens National Park</td>\n",
       "      <td>NP</td>\n",
       "      <td>II</td>\n",
       "      <td>14,706</td>\n",
       "      <td>14,708</td>\n",
       "      <td>27/06/10</td>\n",
       "      <td>27/06/10</td>\n",
       "      <td>146.1856</td>\n",
       "      <td>-36.2763</td>\n",
       "      <td>NSS,RIV</td>\n",
       "    </tr>\n",
       "    <tr>\n",
       "      <th>43</th>\n",
       "      <td>Wilsons Promontory National Park</td>\n",
       "      <td>NP</td>\n",
       "      <td>II</td>\n",
       "      <td>48,244</td>\n",
       "      <td>48,202</td>\n",
       "      <td>8/07/1898</td>\n",
       "      <td>01/12/95</td>\n",
       "      <td>146.3671</td>\n",
       "      <td>-38.9599</td>\n",
       "      <td>FUR,SCP</td>\n",
       "    </tr>\n",
       "    <tr>\n",
       "      <th>44</th>\n",
       "      <td>Wyperfeld National Park</td>\n",
       "      <td>NP</td>\n",
       "      <td>II</td>\n",
       "      <td>3,59,966</td>\n",
       "      <td>3,59,855</td>\n",
       "      <td>20/10/09</td>\n",
       "      <td>04/06/97</td>\n",
       "      <td>141.7584</td>\n",
       "      <td>-35.5849</td>\n",
       "      <td>MDD</td>\n",
       "    </tr>\n",
       "    <tr>\n",
       "      <th>45</th>\n",
       "      <td>Yarra Ranges National Park</td>\n",
       "      <td>NP</td>\n",
       "      <td>II</td>\n",
       "      <td>77,218</td>\n",
       "      <td>77,229</td>\n",
       "      <td>15/12/95</td>\n",
       "      <td>15/12/95</td>\n",
       "      <td>146.0037</td>\n",
       "      <td>-37.6970</td>\n",
       "      <td>AUA,SEH</td>\n",
       "    </tr>\n",
       "  </tbody>\n",
       "</table>\n",
       "</div>"
      ],
      "text/plain": [
       "                                Name TYPE ABBR IUCN Gazetted Area (ha)  \\\n",
       "41           The Lakes National Park        NP   II             2,405    \n",
       "42         Warby-Ovens National Park        NP   II            14,706    \n",
       "43  Wilsons Promontory National Park        NP   II            48,244    \n",
       "44           Wyperfeld National Park        NP   II          3,59,966    \n",
       "45        Yarra Ranges National Park        NP   II            77,218    \n",
       "\n",
       "     Area (ha)   Declared Latest Gazettal  Longitude  Latitude IBRA Regions  \n",
       "41      2,405    30/10/56        20/12/01   147.6670  -37.9876          SCP  \n",
       "42     14,708    27/06/10        27/06/10   146.1856  -36.2763      NSS,RIV  \n",
       "43     48,202   8/07/1898        01/12/95   146.3671  -38.9599      FUR,SCP  \n",
       "44   3,59,855    20/10/09        04/06/97   141.7584  -35.5849          MDD  \n",
       "45     77,229    15/12/95        15/12/95   146.0037  -37.6970      AUA,SEH  "
      ]
     },
     "execution_count": 17,
     "metadata": {},
     "output_type": "execute_result"
    }
   ],
   "source": [
    "national_parks.tail()"
   ]
  },
  {
   "cell_type": "code",
   "execution_count": 18,
   "metadata": {},
   "outputs": [
    {
     "data": {
      "text/plain": [
       "46"
      ]
     },
     "execution_count": 18,
     "metadata": {},
     "output_type": "execute_result"
    }
   ],
   "source": [
    "len(national_parks)"
   ]
  },
  {
   "cell_type": "code",
   "execution_count": 134,
   "metadata": {},
   "outputs": [
    {
     "data": {
      "text/plain": [
       "46"
      ]
     },
     "execution_count": 134,
     "metadata": {},
     "output_type": "execute_result"
    }
   ],
   "source": [
    "len(set(national_parks.Longitude))"
   ]
  },
  {
   "cell_type": "code",
   "execution_count": 39,
   "metadata": {},
   "outputs": [],
   "source": [
    "natpark_array = national_parks[['Name','Latitude', 'Longitude']].values"
   ]
  },
  {
   "cell_type": "code",
   "execution_count": 40,
   "metadata": {},
   "outputs": [
    {
     "data": {
      "text/plain": [
       "array([['Alfred National Park', -37.5721, 149.3627],\n",
       "       ['Alpine National Park', -37.0317, 147.3367],\n",
       "       ['Barmah National Park', -35.8861, 145.0761],\n",
       "       ['Baw Baw National Park', -37.8537, 146.3402],\n",
       "       ['Brisbane Ranges National Park', -37.8411, 144.2397],\n",
       "       ['Burrowa - Pine Mountain National Park', -36.0855, 147.7447],\n",
       "       ['Chiltern-Mt Pilot National Park', -36.2488, 146.683],\n",
       "       ['Churchill National Park', -37.9501, 145.2604],\n",
       "       ['Cobboboonee National Park', -38.1144, 141.44],\n",
       "       ['Coopracambra National Park', -37.3422, 149.3269],\n",
       "       ['Croajingolong National Park', -37.65, 149.4833],\n",
       "       ['Dandenong Ranges National Park', -37.8779, 145.3145],\n",
       "       ['Errinundra National Park', -37.3447, 148.8416],\n",
       "       ['French Island National Park', -38.3356, 145.3837],\n",
       "       ['Grampians National Park', -37.2542, 142.4098],\n",
       "       ['Great Otway National Park', -38.5977, 143.8603],\n",
       "       ['Greater Bendigo National Park', -36.5212, 144.4419],\n",
       "       ['Gunbower National Park', -35.8012, 144.2842],\n",
       "       ['Hattah - Kulkyne National Park', -34.68, 142.3707],\n",
       "       ['Heathcote-Graytown National Park', -36.7816, 144.9754],\n",
       "       ['Kara Kara National Park', -36.8672, 143.2628],\n",
       "       ['Kinglake National Park', -37.4136, 145.2002],\n",
       "       ['Lake Eildon National Park', -37.3063, 145.9865],\n",
       "       ['Lind National Park', -37.5798, 148.9614],\n",
       "       ['Little Desert National Park', -36.5572, 141.4914],\n",
       "       ['Lower Glenelg National Park', -38.0295, 141.1288],\n",
       "       ['Lower Glenelg National Park', -38.0971, 141.3892],\n",
       "       ['Lower Goulburn National Park', -36.2569, 145.3061],\n",
       "       ['Mitchell River National Park', -37.64, 147.3534],\n",
       "       ['Mornington Peninsula National Park', -38.4446, 144.8584],\n",
       "       ['Morwell National Park', -38.3655, 146.3904],\n",
       "       ['Mount Buffalo National Park', -36.7119, 146.7747],\n",
       "       ['Mount Eccles National Park', -38.082, 141.8848],\n",
       "       ['Mount Richmond National Park', -38.2661, 141.4158],\n",
       "       ['Murray - Sunset National Park', -34.6845, 141.4794],\n",
       "       ['Organ Pipes National Park', -37.6675, 144.7684],\n",
       "       ['Point Nepean National Park', -38.3155, 144.6835],\n",
       "       ['Port Campbell National Park', -38.6466, 143.0748],\n",
       "       ['Snowy River National Park', -37.271, 148.4527],\n",
       "       ['Tarra-Bulga National Park', -38.4366, 146.5885],\n",
       "       ['Terrick Terrick National Park', -36.1338, 144.2452],\n",
       "       ['The Lakes National Park', -37.9876, 147.667],\n",
       "       ['Warby-Ovens National Park', -36.2763, 146.1856],\n",
       "       ['Wilsons Promontory National Park', -38.9599, 146.3671],\n",
       "       ['Wyperfeld National Park', -35.5849, 141.7584],\n",
       "       ['Yarra Ranges National Park', -37.697, 146.0037]], dtype=object)"
      ]
     },
     "execution_count": 40,
     "metadata": {},
     "output_type": "execute_result"
    }
   ],
   "source": [
    "natpark_array"
   ]
  },
  {
   "cell_type": "code",
   "execution_count": 22,
   "metadata": {},
   "outputs": [
    {
     "data": {
      "text/plain": [
       "<matplotlib.collections.PathCollection at 0x1a172295c0>"
      ]
     },
     "execution_count": 22,
     "metadata": {},
     "output_type": "execute_result"
    },
    {
     "data": {
      "image/png": "[encoded data removed]",
      "text/plain": [
       "<Figure size 432x288 with 1 Axes>"
      ]
     },
     "metadata": {
      "needs_background": "light"
     },
     "output_type": "display_data"
    }
   ],
   "source": [
    "plt.scatter(locations_array[:,0],locations_array[:,1], label='True Position')  "
   ]
  },
  {
   "cell_type": "code",
   "execution_count": 41,
   "metadata": {},
   "outputs": [
    {
     "data": {
      "text/plain": [
       "<matplotlib.collections.PathCollection at 0x1a1749ebe0>"
      ]
     },
     "execution_count": 41,
     "metadata": {},
     "output_type": "execute_result"
    },
    {
     "data": {
      "image/png": "[encoded data removed]",
      "text/plain": [
       "<Figure size 432x288 with 1 Axes>"
      ]
     },
     "metadata": {
      "needs_background": "light"
     },
     "output_type": "display_data"
    }
   ],
   "source": [
    "plt.scatter(natpark_array[:,1] ,natpark_array[:,2], color='black') "
   ]
  },
  {
   "cell_type": "code",
   "execution_count": null,
   "metadata": {},
   "outputs": [],
   "source": []
  },
  {
   "cell_type": "code",
   "execution_count": 42,
   "metadata": {},
   "outputs": [
    {
     "data": {
      "text/plain": [
       "<matplotlib.collections.PathCollection at 0x1a174f5438>"
      ]
     },
     "execution_count": 42,
     "metadata": {},
     "output_type": "execute_result"
    },
    {
     "data": {
      "image/png": "[encoded data removed]",
      "text/plain": [
       "<Figure size 432x288 with 1 Axes>"
      ]
     },
     "metadata": {
      "needs_background": "light"
     },
     "output_type": "display_data"
    }
   ],
   "source": [
    "plt.scatter(locations_array[:,0],locations_array[:,1], label='True Position')\n",
    "plt.scatter(natpark_array[:,1] ,natpark_array[:,2], color='black') "
   ]
  },
  {
   "cell_type": "code",
   "execution_count": 27,
   "metadata": {},
   "outputs": [],
   "source": [
    "#from scipy.spatial.distance import cdist, pdist"
   ]
  },
  {
   "cell_type": "code",
   "execution_count": 120,
   "metadata": {},
   "outputs": [],
   "source": [
    "#orig = Point(-37.22717, 145.01523)\n",
    "\n",
    "#dest1, dest2, dest3 = Point(-38.1144, 141.44), Point(-37.64  , 147.3534), Point(-35.5849, 141.7584)"
   ]
  },
  {
   "cell_type": "code",
   "execution_count": 121,
   "metadata": {},
   "outputs": [],
   "source": [
    "#orig"
   ]
  },
  {
   "cell_type": "code",
   "execution_count": 122,
   "metadata": {},
   "outputs": [],
   "source": [
    "#destinations = MultiPoint([dest1, dest2, dest3])\n",
    "\n",
    "#print(destinations)\n",
    "#MULTIPOINT (0 1.45, 2 2, 0 2.5)"
   ]
  },
  {
   "cell_type": "code",
   "execution_count": 123,
   "metadata": {},
   "outputs": [],
   "source": [
    "#destinations"
   ]
  },
  {
   "cell_type": "code",
   "execution_count": 35,
   "metadata": {},
   "outputs": [
    {
     "name": "stdout",
     "output_type": "stream",
     "text": [
      "(<shapely.geometry.point.Point object at 0x1a17229dd8>, <shapely.geometry.point.Point object at 0x1a17229c50>)\n",
      "POINT (-37.22717 145.01523)\n",
      "POINT (-37.64 147.3534)\n"
     ]
    }
   ],
   "source": [
    "nearest_geoms = nearest_points(orig, destinations)\n",
    "\n",
    "near_idx0 = nearest_geoms[0]\n",
    "\n",
    "near_idx1 = nearest_geoms[1]\n",
    "\n",
    "print(nearest_geoms)\n",
    "#(<shapely.geometry.point.Point object at 0x000002A232089C50>, <shapely.geometry.point.Point object at 0x000002A232089860>)\n",
    "\n",
    "print(near_idx0)\n",
    "#POINT (1 1.67)\n",
    "\n",
    "print(near_idx1)\n",
    "#POINT (0 1.45)"
   ]
  },
  {
   "cell_type": "code",
   "execution_count": null,
   "metadata": {},
   "outputs": [],
   "source": [
    "# locations_array\n",
    "# natpark_array"
   ]
  },
  {
   "cell_type": "code",
   "execution_count": 45,
   "metadata": {},
   "outputs": [
    {
     "data": {
      "text/plain": [
       "-37.5721"
      ]
     },
     "execution_count": 45,
     "metadata": {},
     "output_type": "execute_result"
    }
   ],
   "source": [
    "#natpark_array[0][1]"
   ]
  },
  {
   "cell_type": "code",
   "execution_count": 38,
   "metadata": {},
   "outputs": [
    {
     "data": {
      "image/svg+xml": [
       "<svg xmlns=\"http://www.w3.org/2000/svg\" xmlns:xlink=\"http://www.w3.org/1999/xlink\" width=\"100.0\" height=\"100.0\" viewBox=\"-38.350936000000004 141.203464 3.002572000000008 6.386471999999998\" preserveAspectRatio=\"xMinYMin meet\"><g transform=\"matrix(1,0,0,-1,0,288.7934)\"><g><circle cx=\"-38.1144\" cy=\"141.44\" r=\"0.1915941599999999\" stroke=\"#555555\" stroke-width=\"0.06386471999999997\" fill=\"#66cc99\" opacity=\"0.6\" /><circle cx=\"-37.64\" cy=\"147.3534\" r=\"0.1915941599999999\" stroke=\"#555555\" stroke-width=\"0.06386471999999997\" fill=\"#66cc99\" opacity=\"0.6\" /><circle cx=\"-35.5849\" cy=\"141.7584\" r=\"0.1915941599999999\" stroke=\"#555555\" stroke-width=\"0.06386471999999997\" fill=\"#66cc99\" opacity=\"0.6\" /></g></g></svg>"
      ],
      "text/plain": [
       "<shapely.geometry.multipoint.MultiPoint at 0x1a1724b048>"
      ]
     },
     "execution_count": 38,
     "metadata": {},
     "output_type": "execute_result"
    }
   ],
   "source": [
    "#MultiPoint([Point(-38.1144, 141.44), Point(-37.64  , 147.3534), Point(-35.5849, 141.7584)])"
   ]
  },
  {
   "cell_type": "code",
   "execution_count": 58,
   "metadata": {},
   "outputs": [],
   "source": [
    "list1 = []"
   ]
  },
  {
   "cell_type": "code",
   "execution_count": 59,
   "metadata": {},
   "outputs": [],
   "source": [
    "for i,j,k in natpark_array:\n",
    "    list1.append(Point(j,k))"
   ]
  },
  {
   "cell_type": "code",
   "execution_count": 66,
   "metadata": {},
   "outputs": [
    {
     "name": "stdout",
     "output_type": "stream",
     "text": [
      "MULTIPOINT (-37.5721 149.3627, -37.0317 147.3367, -35.8861 145.0761, -37.8537 146.3402, -37.8411 144.2397, -36.0855 147.7447, -36.2488 146.683, -37.9501 145.2604, -38.1144 141.44, -37.3422 149.3269, -37.65 149.4833, -37.8779 145.3145, -37.3447 148.8416, -38.3356 145.3837, -37.2542 142.4098, -38.5977 143.8603, -36.5212 144.4419, -35.8012 144.2842, -34.68 142.3707, -36.7816 144.9754, -36.8672 143.2628, -37.4136 145.2002, -37.3063 145.9865, -37.5798 148.9614, -36.5572 141.4914, -38.0295 141.1288, -38.0971 141.3892, -36.2569 145.3061, -37.64 147.3534, -38.4446 144.8584, -38.3655 146.3904, -36.7119 146.7747, -38.082 141.8848, -38.2661 141.4158, -34.6845 141.4794, -37.6675 144.7684, -38.3155 144.6835, -38.6466 143.0748, -37.271 148.4527, -38.4366 146.5885, -36.1338 144.2452, -37.9876 147.667, -36.2763 146.1856, -38.9599 146.3671, -35.5849 141.7584, -37.697 146.0037)\n"
     ]
    }
   ],
   "source": [
    "print(MultiPoint(list1))"
   ]
  },
  {
   "cell_type": "code",
   "execution_count": 68,
   "metadata": {},
   "outputs": [],
   "source": [
    "dest = MultiPoint(list1)"
   ]
  },
  {
   "cell_type": "code",
   "execution_count": 70,
   "metadata": {},
   "outputs": [
    {
     "data": {
      "image/svg+xml": [
       "<svg xmlns=\"http://www.w3.org/2000/svg\" xmlns:xlink=\"http://www.w3.org/1999/xlink\" width=\"100.0\" height=\"100.0\" viewBox=\"-39.29408 140.79462 4.948260000000005 9.022860000000009\" preserveAspectRatio=\"xMinYMin meet\"><g transform=\"matrix(1,0,0,-1,0,290.61210000000005)\"><g><circle cx=\"-37.5721\" cy=\"149.3627\" r=\"0.27068580000000025\" stroke=\"#555555\" stroke-width=\"0.09022860000000009\" fill=\"#66cc99\" opacity=\"0.6\" /><circle cx=\"-37.0317\" cy=\"147.3367\" r=\"0.27068580000000025\" stroke=\"#555555\" stroke-width=\"0.09022860000000009\" fill=\"#66cc99\" opacity=\"0.6\" /><circle cx=\"-35.8861\" cy=\"145.0761\" r=\"0.27068580000000025\" stroke=\"#555555\" stroke-width=\"0.09022860000000009\" fill=\"#66cc99\" opacity=\"0.6\" /><circle cx=\"-37.8537\" cy=\"146.3402\" r=\"0.27068580000000025\" stroke=\"#555555\" stroke-width=\"0.09022860000000009\" fill=\"#66cc99\" opacity=\"0.6\" /><circle cx=\"-37.8411\" cy=\"144.2397\" r=\"0.27068580000000025\" stroke=\"#555555\" stroke-width=\"0.09022860000000009\" fill=\"#66cc99\" opacity=\"0.6\" /><circle cx=\"-36.0855\" cy=\"147.7447\" r=\"0.27068580000000025\" stroke=\"#555555\" stroke-width=\"0.09022860000000009\" fill=\"#66cc99\" opacity=\"0.6\" /><circle cx=\"-36.2488\" cy=\"146.683\" r=\"0.27068580000000025\" stroke=\"#555555\" stroke-width=\"0.09022860000000009\" fill=\"#66cc99\" opacity=\"0.6\" /><circle cx=\"-37.9501\" cy=\"145.2604\" r=\"0.27068580000000025\" stroke=\"#555555\" stroke-width=\"0.09022860000000009\" fill=\"#66cc99\" opacity=\"0.6\" /><circle cx=\"-38.1144\" cy=\"141.44\" r=\"0.27068580000000025\" stroke=\"#555555\" stroke-width=\"0.09022860000000009\" fill=\"#66cc99\" opacity=\"0.6\" /><circle cx=\"-37.3422\" cy=\"149.3269\" r=\"0.27068580000000025\" stroke=\"#555555\" stroke-width=\"0.09022860000000009\" fill=\"#66cc99\" opacity=\"0.6\" /><circle cx=\"-37.65\" cy=\"149.4833\" r=\"0.27068580000000025\" stroke=\"#555555\" stroke-width=\"0.09022860000000009\" fill=\"#66cc99\" opacity=\"0.6\" /><circle cx=\"-37.8779\" cy=\"145.3145\" r=\"0.27068580000000025\" stroke=\"#555555\" stroke-width=\"0.09022860000000009\" fill=\"#66cc99\" opacity=\"0.6\" /><circle cx=\"-37.3447\" cy=\"148.8416\" r=\"0.27068580000000025\" stroke=\"#555555\" stroke-width=\"0.09022860000000009\" fill=\"#66cc99\" opacity=\"0.6\" /><circle cx=\"-38.3356\" cy=\"145.3837\" r=\"0.27068580000000025\" stroke=\"#555555\" stroke-width=\"0.09022860000000009\" fill=\"#66cc99\" opacity=\"0.6\" /><circle cx=\"-37.2542\" cy=\"142.4098\" r=\"0.27068580000000025\" stroke=\"#555555\" stroke-width=\"0.09022860000000009\" fill=\"#66cc99\" opacity=\"0.6\" /><circle cx=\"-38.5977\" cy=\"143.8603\" r=\"0.27068580000000025\" stroke=\"#555555\" stroke-width=\"0.09022860000000009\" fill=\"#66cc99\" opacity=\"0.6\" /><circle cx=\"-36.5212\" cy=\"144.4419\" r=\"0.27068580000000025\" stroke=\"#555555\" stroke-width=\"0.09022860000000009\" fill=\"#66cc99\" opacity=\"0.6\" /><circle cx=\"-35.8012\" cy=\"144.2842\" r=\"0.27068580000000025\" stroke=\"#555555\" stroke-width=\"0.09022860000000009\" fill=\"#66cc99\" opacity=\"0.6\" /><circle cx=\"-34.68\" cy=\"142.3707\" r=\"0.27068580000000025\" stroke=\"#555555\" stroke-width=\"0.09022860000000009\" fill=\"#66cc99\" opacity=\"0.6\" /><circle cx=\"-36.7816\" cy=\"144.9754\" r=\"0.27068580000000025\" stroke=\"#555555\" stroke-width=\"0.09022860000000009\" fill=\"#66cc99\" opacity=\"0.6\" /><circle cx=\"-36.8672\" cy=\"143.2628\" r=\"0.27068580000000025\" stroke=\"#555555\" stroke-width=\"0.09022860000000009\" fill=\"#66cc99\" opacity=\"0.6\" /><circle cx=\"-37.4136\" cy=\"145.2002\" r=\"0.27068580000000025\" stroke=\"#555555\" stroke-width=\"0.09022860000000009\" fill=\"#66cc99\" opacity=\"0.6\" /><circle cx=\"-37.3063\" cy=\"145.9865\" r=\"0.27068580000000025\" stroke=\"#555555\" stroke-width=\"0.09022860000000009\" fill=\"#66cc99\" opacity=\"0.6\" /><circle cx=\"-37.5798\" cy=\"148.9614\" r=\"0.27068580000000025\" stroke=\"#555555\" stroke-width=\"0.09022860000000009\" fill=\"#66cc99\" opacity=\"0.6\" /><circle cx=\"-36.5572\" cy=\"141.4914\" r=\"0.27068580000000025\" stroke=\"#555555\" stroke-width=\"0.09022860000000009\" fill=\"#66cc99\" opacity=\"0.6\" /><circle cx=\"-38.0295\" cy=\"141.1288\" r=\"0.27068580000000025\" stroke=\"#555555\" stroke-width=\"0.09022860000000009\" fill=\"#66cc99\" opacity=\"0.6\" /><circle cx=\"-38.0971\" cy=\"141.3892\" r=\"0.27068580000000025\" stroke=\"#555555\" stroke-width=\"0.09022860000000009\" fill=\"#66cc99\" opacity=\"0.6\" /><circle cx=\"-36.2569\" cy=\"145.3061\" r=\"0.27068580000000025\" stroke=\"#555555\" stroke-width=\"0.09022860000000009\" fill=\"#66cc99\" opacity=\"0.6\" /><circle cx=\"-37.64\" cy=\"147.3534\" r=\"0.27068580000000025\" stroke=\"#555555\" stroke-width=\"0.09022860000000009\" fill=\"#66cc99\" opacity=\"0.6\" /><circle cx=\"-38.4446\" cy=\"144.8584\" r=\"0.27068580000000025\" stroke=\"#555555\" stroke-width=\"0.09022860000000009\" fill=\"#66cc99\" opacity=\"0.6\" /><circle cx=\"-38.3655\" cy=\"146.3904\" r=\"0.27068580000000025\" stroke=\"#555555\" stroke-width=\"0.09022860000000009\" fill=\"#66cc99\" opacity=\"0.6\" /><circle cx=\"-36.7119\" cy=\"146.7747\" r=\"0.27068580000000025\" stroke=\"#555555\" stroke-width=\"0.09022860000000009\" fill=\"#66cc99\" opacity=\"0.6\" /><circle cx=\"-38.082\" cy=\"141.8848\" r=\"0.27068580000000025\" stroke=\"#555555\" stroke-width=\"0.09022860000000009\" fill=\"#66cc99\" opacity=\"0.6\" /><circle cx=\"-38.2661\" cy=\"141.4158\" r=\"0.27068580000000025\" stroke=\"#555555\" stroke-width=\"0.09022860000000009\" fill=\"#66cc99\" opacity=\"0.6\" /><circle cx=\"-34.6845\" cy=\"141.4794\" r=\"0.27068580000000025\" stroke=\"#555555\" stroke-width=\"0.09022860000000009\" fill=\"#66cc99\" opacity=\"0.6\" /><circle cx=\"-37.6675\" cy=\"144.7684\" r=\"0.27068580000000025\" stroke=\"#555555\" stroke-width=\"0.09022860000000009\" fill=\"#66cc99\" opacity=\"0.6\" /><circle cx=\"-38.3155\" cy=\"144.6835\" r=\"0.27068580000000025\" stroke=\"#555555\" stroke-width=\"0.09022860000000009\" fill=\"#66cc99\" opacity=\"0.6\" /><circle cx=\"-38.6466\" cy=\"143.0748\" r=\"0.27068580000000025\" stroke=\"#555555\" stroke-width=\"0.09022860000000009\" fill=\"#66cc99\" opacity=\"0.6\" /><circle cx=\"-37.271\" cy=\"148.4527\" r=\"0.27068580000000025\" stroke=\"#555555\" stroke-width=\"0.09022860000000009\" fill=\"#66cc99\" opacity=\"0.6\" /><circle cx=\"-38.4366\" cy=\"146.5885\" r=\"0.27068580000000025\" stroke=\"#555555\" stroke-width=\"0.09022860000000009\" fill=\"#66cc99\" opacity=\"0.6\" /><circle cx=\"-36.1338\" cy=\"144.2452\" r=\"0.27068580000000025\" stroke=\"#555555\" stroke-width=\"0.09022860000000009\" fill=\"#66cc99\" opacity=\"0.6\" /><circle cx=\"-37.9876\" cy=\"147.667\" r=\"0.27068580000000025\" stroke=\"#555555\" stroke-width=\"0.09022860000000009\" fill=\"#66cc99\" opacity=\"0.6\" /><circle cx=\"-36.2763\" cy=\"146.1856\" r=\"0.27068580000000025\" stroke=\"#555555\" stroke-width=\"0.09022860000000009\" fill=\"#66cc99\" opacity=\"0.6\" /><circle cx=\"-38.9599\" cy=\"146.3671\" r=\"0.27068580000000025\" stroke=\"#555555\" stroke-width=\"0.09022860000000009\" fill=\"#66cc99\" opacity=\"0.6\" /><circle cx=\"-35.5849\" cy=\"141.7584\" r=\"0.27068580000000025\" stroke=\"#555555\" stroke-width=\"0.09022860000000009\" fill=\"#66cc99\" opacity=\"0.6\" /><circle cx=\"-37.697\" cy=\"146.0037\" r=\"0.27068580000000025\" stroke=\"#555555\" stroke-width=\"0.09022860000000009\" fill=\"#66cc99\" opacity=\"0.6\" /></g></g></svg>"
      ],
      "text/plain": [
       "<shapely.geometry.multipoint.MultiPoint at 0x1a175896d8>"
      ]
     },
     "execution_count": 70,
     "metadata": {},
     "output_type": "execute_result"
    }
   ],
   "source": [
    "dest"
   ]
  },
  {
   "cell_type": "code",
   "execution_count": 83,
   "metadata": {},
   "outputs": [
    {
     "name": "stdout",
     "output_type": "stream",
     "text": [
      "MULTIPOINT (-37.5721 149.3627, -37.0317 147.3367, -35.8861 145.0761, -37.8537 146.3402, -37.8411 144.2397, -36.0855 147.7447, -36.2488 146.683, -37.9501 145.2604, -38.1144 141.44, -37.3422 149.3269, -37.65 149.4833, -37.8779 145.3145, -37.3447 148.8416, -38.3356 145.3837, -37.2542 142.4098, -38.5977 143.8603, -36.5212 144.4419, -35.8012 144.2842, -34.68 142.3707, -36.7816 144.9754, -36.8672 143.2628, -37.4136 145.2002, -37.3063 145.9865, -37.5798 148.9614, -36.5572 141.4914, -38.0295 141.1288, -38.0971 141.3892, -36.2569 145.3061, -37.64 147.3534, -38.4446 144.8584, -38.3655 146.3904, -36.7119 146.7747, -38.082 141.8848, -38.2661 141.4158, -34.6845 141.4794, -37.6675 144.7684, -38.3155 144.6835, -38.6466 143.0748, -37.271 148.4527, -38.4366 146.5885, -36.1338 144.2452, -37.9876 147.667, -36.2763 146.1856, -38.9599 146.3671, -35.5849 141.7584, -37.697 146.0037)\n"
     ]
    }
   ],
   "source": [
    "print(dest)"
   ]
  },
  {
   "cell_type": "code",
   "execution_count": 88,
   "metadata": {},
   "outputs": [],
   "source": [
    "list2 = []"
   ]
  },
  {
   "cell_type": "code",
   "execution_count": 89,
   "metadata": {},
   "outputs": [],
   "source": [
    "for i,j in locations_array:\n",
    "    list2.append(Point(i,j))"
   ]
  },
  {
   "cell_type": "code",
   "execution_count": 90,
   "metadata": {},
   "outputs": [],
   "source": [
    "orig = MultiPoint(list2)"
   ]
  },
  {
   "cell_type": "code",
   "execution_count": 91,
   "metadata": {},
   "outputs": [
    {
     "name": "stdout",
     "output_type": "stream",
     "text": [
      "MULTIPOINT (-38.20817 143.25117, -38.7155 143.71346, -37.85217 142.27234, -38.06925 144.033, -38.0254 144.35352, -37.86235 144.09443, -37.46393 142.57351, -37.51516 144.31171, -37.39518 143.77014, -37.66395 144.45549, -37.95862 143.16525, -37.38117 144.31695, -38.28085 142.99047, -38.31983 144.2191, -36.89853 141.64537, -37.70689 142.8517399999999, -38.46356 143.48377, -37.39303 144.41697, -37.88001 144.56807, -37.5337 143.88567, -37.82142 144.74941, -37.06823 143.74822, -36.64623 142.46344, -37.05485 142.44049, -38.04326 141.00744, -37.39411 142.06149, -37.27918 143.84341, -37.29441 143.78698, -38.26164 144.06996, -37.74422 144.29976, -38.12649 142.65774, -37.21172 144.1403, -37.58483 143.68416, -36.9275 142.43386, -36.89323 143.36568, -38.3956 142.76504, -38.21353 144.1396, -37.80859 141.90761, -37.76257 144.66524, -36.32968 142.40836, -37.01226 142.70102, -38.31165 143.6589, -38.14682 142.6919600000001, -36.92034 143.75685, -37.14025 142.51912, -38.20804 142.92413, -37.87665 144.2564, -38.34405 143.50334, -38.34798 144.26011, -38.23151 143.545, -38.32082 143.25057, -37.41456 143.9304, -37.14512 143.59139, -37.71584 144.5943600000001, -37.1575 142.5789600000001, -37.70894000000001 141.46264, -37.44716 144.11817, -38.3111 144.13384, -37.17906 142.54124, -38.36397 144.19998, -38.26345 141.67243, -37.7238 143.6292, -38.23279 144.54053, -37.08739 142.37838, -37.09257 142.52457, -38.05259 144.12637, -37.78728 144.06682, -37.55689 144.59906, -38.04811 144.14414, -37.62178 143.70603, -38.12809 144.6257, -37.5894 143.79392, -38.05795 144.21097, -37.8067 144.22643, -37.14934 143.52411, -37.59407 144.58378, -38.33802 144.28114, -38.30666 142.35123, -37.82874 143.75559, -38.08532 142.86956, -38.08552 142.62333, -37.4735 144.32083, -38.78152 143.42752, -37.54674 142.08766, -37.63249 141.78581, -37.78032 144.75493, -37.5612 141.11411, -37.74559 144.44593, -37.44434 143.92437, -37.97128 143.30908, -37.77954 143.75775, -37.72529 143.70103, -37.95051 141.7643100000001, -37.65189 143.8585399999999, -37.12354000000001 141.42724, -36.6032 143.26018, -37.6623 144.00037, -38.38157 144.12848, -37.88186 142.18378, -37.41488 143.93198, -37.66557 141.31347, -38.42917 143.75721, -38.32004000000001 143.63589, -37.61119 144.57372, -37.2997 144.16234, -37.92317 141.1709, -37.17682 142.59822, -37.45394 144.1363899999999, -37.66281 143.68142, -37.68299 141.29245, -38.44662 144.11658, -38.02109 141.5780600000001, -37.04264000000001 143.44587, -37.01417 142.33976, -37.93045 143.81408, -38.28482 143.01728, -38.34686 142.46507, -38.25329 143.25234, -37.72799000000001 143.79519, -38.02914000000001 144.24098, -37.68306 143.91036, -38.47704 142.94228, -37.43804 144.12286, -37.25975 142.88824, -36.98026 142.34551, -37.40797 142.49014, -38.38377 142.17041, -38.21153 144.35835, -37.83588 142.25102, -38.36549 144.0022, -36.99783 143.76169, -37.65533 143.99318, -37.26515 143.74225, -38.15442 141.9448, -37.09838 141.27839, -37.36094 144.1883, -37.60595 143.75643, -38.3463 144.15775, -36.97762 142.78572, -36.92297 143.32647, -38.31189000000001 143.63073, -36.86819000000001 143.76296, -37.8723 141.0243, -37.36551 143.63905, -36.79192000000001 143.63223, -37.84926 144.38725, -38.22998 142.76376, -38.13839 142.58176, -38.25458 142.52995, -37.83087 144.69167, -38.21153 144.24381, -37.12962 142.52945, -38.32134 144.1508600000001, -38.56953 143.61514, -37.0368 143.27052, -38.0502 143.62915, -36.98942 142.65297, -37.47985 144.06497, -38.15435 142.67581, -37.17193 142.53742, -37.69981 144.65784, -37.84875 144.07654, -38.33001 143.3457, -38.28453 143.20155, -37.09963 143.52345, -38.30146 143.77065, -37.56018 143.72719, -37.69149 143.42465, -37.26004 142.53687, -37.27997 144.29253, -37.77863 144.44492, -36.74369 143.26912, -37.53059 143.76141, -38.12647 142.85664, -37.82136 144.70588, -37.13746 142.55877, -38.45451 143.02517, -37.3954 141.56685, -37.43007 144.24512, -38.35473 142.65051, -38.25408 143.18914, -37.41304 144.11989, -38.61562 142.9568, -37.51809 144.3069, -37.39663 144.12299, -37.35004 144.1235, -36.81768 144.1517899999999, -36.0219 145.05196, -36.03103 145.47848, -35.85894000000001 145.55898, -36.38318 144.73731, -36.60322 145.15183, -36.60843 143.75736, -36.05527 145.59841, -35.87318 144.19785, -36.51624 145.37817, -36.64333 144.42896, -36.25464 145.01962, -37.03841 144.11362, -36.5624 145.2228, -36.77482 144.4368, -35.89187000000001 144.26123, -36.80779 144.31618, -34.27553 141.29701, -36.09391 145.20386, -37.54768 144.8777, -37.13693 144.44673, -36.93662 144.482, -36.99424000000001 144.81369, -34.74648 143.18506, -36.84316 144.2879, -36.23399000000001 145.49502, -36.8451 144.28432, -36.68332 144.39708, -34.27471 141.2468, -36.22521 145.13102, -36.68192 144.06853, -36.32684 145.39711, -35.9686 145.21058, -35.04345 141.99813, -36.97134000000001 144.2695399999999, -35.94597 144.34572, -36.79585 143.83685, -36.06791 146.18467, -37.25436 144.74792, -37.12876 144.34389, -35.27395999999999 143.51214, -37.58252 145.1037600000001, -37.55303 144.57317, -37.59768 145.07047, -36.29527 145.69234, -35.99905 145.17966, -36.70271 144.3467, -36.15779000000001 145.62923, -36.16235 144.79763, -37.42066 145.10434, -36.9512 144.73871, -36.67644 144.30392, -36.83792 144.23713, -34.76469 143.10093, -36.77692 144.22711, -36.75413 144.69295, -34.34141 142.26674, -37.51388 144.76158, -37.05061 144.0509, -36.06754 145.43183, -37.56345 144.76034, -37.63356 144.75021, -37.0953 144.12202, -35.87435 144.2018, -36.54324 145.43184, -36.18383 145.54431, -34.7059 142.88402, -36.97648 144.25353, -35.97159 145.4604, -36.09593 144.62972, -37.60736 144.88396, -36.67183 144.41127, -34.3535 141.99698, -36.83789 143.9373399999999, -36.78034 144.16541, -35.69159000000001 143.9593, -36.654 144.40464, -36.26299 145.52168, -37.50474000000001 144.78816, -36.41584 145.21047, -36.19904 144.13162, -37.23906 144.42633, -36.66453 143.6862, -36.0408 145.96864, -37.10515 144.30947, -36.77228 144.37864, -36.35768 145.79304, -36.89596 144.49626, -37.37231 144.44595, -36.31677 145.41925, -36.52691 145.07092, -37.26363 144.34926, -34.31209 142.17641, -35.66805 143.86758, -37.25444 144.68906, -36.21068 144.8707, -37.60097 144.95853, -34.21157 142.18373, -37.10374 144.29962, -37.4911 144.4776, -34.23413 142.21061, -35.85247000000001 145.40702, -34.23413 142.21061, -37.50452 145.16563, -37.48041 144.67556, -35.44627 143.66337, -36.19914 145.02277, -36.72361 144.51274, -36.4266 145.33823, -37.41653 144.49776, -36.03845 145.2512, -36.41424 145.22165, -34.16043 142.04975, -36.08806 142.88403, -37.48742 144.56391, -34.54024 141.43887, -36.4416 145.02636, -37.21422000000001 144.26747, -34.54251 141.66058, -37.06927 144.51132, -36.76515 144.80071, -36.50241 143.95411, -37.42344 144.54278, -34.4014 141.40574, -37.6083 144.88421, -35.09874 143.3380399999999, -37.46411 145.09657, -36.49786 144.35969, -36.90005 144.68831, -36.92378 144.36168, -36.34743 145.5484, -37.63143 144.85366, -35.97065999999999 145.09817, -35.92738 144.33078, -36.36267 145.29551, -34.80053 142.60563, -36.34754 145.43419, -34.5459 142.33513, -36.01868 145.54839, -36.9682 144.71873, -35.9974 145.6369, -35.79395 144.12151, -36.37242 145.23398, -36.25012 145.55184, -36.19895 144.57273, -36.47397 145.2228, -37.03181 144.24987, -36.84122 144.29046, -37.49097 145.10356, -37.31644 144.6192899999999, -34.89986 141.663, -36.82577 144.30243, -35.56063 144.01364, -36.22482 146.95215, -37.30612 145.7017, -37.45538 145.24281, -37.69967000000001 145.34526, -37.29103 145.46549, -37.69318 145.51916, -36.76902000000001 146.98266, -36.75169 145.76572, -37.66659 145.16398, -36.67959000000001 147.13583, -37.22206 145.02059, -37.06952 146.17822, -37.1779 145.0713, -37.64615 145.22552, -37.55983 145.33111, -37.64183 145.22036, -36.17752 146.9526, -36.30157 147.03579, -37.37562 145.09076, -37.82456 145.65545, -37.47343 145.27579, -35.99983 147.54488, -37.49938 144.95527, -37.43417 145.01715, -36.25383 146.82021, -36.79265 145.90573, -36.79516 146.41914, -37.06396 146.12931, -36.8237 146.3888, -37.09736 145.62022, -36.80678 145.92416, -36.49463 146.84298, -36.98275 145.58505, -36.61026 145.39186, -36.46772 145.93802, -37.73809 145.25471, -36.7872 145.73587, -37.02113 144.78589, -37.23559 144.99764, -36.77129 145.59715, -36.79 145.07185, -37.24681 145.17176, -37.3529 145.02669, -37.18732 145.33132, -36.2893 146.73628, -36.71149000000001 146.33664, -37.70147 145.83039, -37.07107 144.81989, -37.04212 146.03274, -36.14617 146.60616, -36.14617 146.60616, -36.84022 145.71666, -36.53379 146.90202, -36.46296 145.95665, -37.28816 146.12327, -37.02312 145.05914, -36.07943 146.29334, -37.33412 144.95932, -36.45966 146.63934, -37.2112 145.73189, -37.07604 145.60843, -36.53936 146.75247, -36.80739000000001 145.85431, -37.18427 145.2322, -36.61301 146.42894, -37.7321 145.74659, -36.3402 147.25835, -36.23147 146.94385, -37.09309 145.20413, -36.92908 146.22762, -37.14157 145.25874, -37.67976 145.22095, -37.31785 145.0468, -37.1107 146.44567, -36.17132 147.57504, -37.08966 145.10811, -36.53497 146.65397, -36.07126 147.9628, -36.12702 146.5825, -37.64498 145.31107, -37.68575 145.37697, -36.15926 147.12104, -37.30913 145.77474, -37.29275 146.00434, -37.1174 144.86652, -36.5839 145.90365, -37.66743 145.85397, -36.73767 147.18666, -37.3553 144.96203, -37.67535 145.22173, -37.52296 145.3273, -37.41913 145.0399, -35.9956 146.56402, -37.8054 145.71718, -37.41888 145.03734, -37.31937 145.49863, -37.41931 145.02296, -37.07525 145.03047, -37.64072 145.23748, -37.64072 145.23748, -37.82211 145.52848, -37.32657 144.96957, -36.62739000000001 146.68917, -36.14163 146.64242, -37.53246 145.41445, -37.17734 145.25275, -37.47167 145.23905, -37.42006 145.01218, -37.38115 145.47366, -36.34569000000001 146.55356, -36.74421 147.01491, -36.61367 146.42829, -36.87436 145.57107, -37.63762 145.58145, -37.30193 144.992, -37.60053 145.21665, -37.85593 145.66478, -37.09914000000001 145.09163, -37.56072 145.89537, -36.6849 147.06839, -37.85586 145.71818, -37.02673 145.95425, -36.48237 146.23568, -37.85255 145.69567, -37.36904000000001 144.96522, -37.33422 145.3512899999999, -36.60468 146.1201, -37.59126 145.49473, -37.55198 145.4959, -36.53495 146.59979, -36.0869 146.71791, -37.65965 145.22684, -38.20166 146.42047, -37.4213 149.64855, -38.11712 145.69025, -38.63687 145.84517, -38.00974 146.635, -38.25959 146.42131, -37.98049 145.35949, -38.50132 145.4605, -38.02075 146.8422100000001, -37.74083 148.15587, -38.0786 145.69108, -38.64207 145.69997, -38.07644000000001 145.67769, -38.03143 147.05797, -38.15003 145.45618, -38.34318 145.74925, -37.733 147.78244, -38.29498 146.28904, -37.94647 146.45986, -38.21491 147.3964, -38.06791 145.56151, -38.0501 145.71982, -37.69986 148.58698, -38.25346 145.87293, -37.29839000000001 149.21228, -38.57816 145.98534, -37.84011 148.13263, -38.47685 146.06027, -38.46618 144.91497, -38.28902 147.15537, -38.05147 147.1834, -37.69708 148.45407, -38.21821 147.05985, -38.59294000000001 146.61193, -38.55006 145.66754, -38.099 146.97498, -38.14008 145.37688, -38.11185 146.17142, -38.01456 145.96332, -38.21844 146.29493, -37.97244 147.60354, -37.75321 148.25697, -38.83672 146.18668, -37.68548 148.52946, -38.57154 145.85145, -38.24974 146.5932, -38.1218 146.54116, -37.91464000000001 147.66442, -37.93579 146.39066, -38.03121 146.80125, -38.23821 146.58167, -38.7344 146.11982, -38.61473 145.87349, -38.41668 146.72041, -38.35804 145.14569, -38.13651 145.34864, -38.28581 146.3178, -38.35919000000001 147.09208, -37.82655 147.71268, -38.31332 146.26671, -38.49509000000001 145.92525, -38.18574 145.88315, -38.17054 145.23537, -38.26096 147.03674, -38.28722 146.54173, -37.74707 148.15316, -37.74399 148.16798, -38.19792 146.40238, -37.89249 147.25285, -38.21044000000001 146.7854, -38.44377 145.48286, -37.94433 145.97851, -38.546 146.83059, -37.55789 149.75794, -38.33076 145.71331, -37.73874 147.90482, -38.41361 145.52602, -38.01835 146.36927, -38.11552 145.9257899999999, -38.14608 145.42426, -37.89078 147.38518, -38.33286 147.0169, -38.09188 145.49029, -38.42611 145.46013, -37.9189 145.51494, -37.89856 146.24091, -38.3259 145.671, -38.3259 145.671, -37.89338 145.92542, -37.90461 147.70021, -38.33482 146.57235, -38.41865 144.88714, -38.67405 146.19382, -38.1584 147.39117, -38.49113 145.20138, -37.09554 147.41153, -38.43061 145.50148, -38.07242 145.6538, -38.02763 145.95532, -37.43762 149.20019, -37.68197 148.36267, -37.97385 145.59625, -37.86736 146.90176, -38.20317 146.0587, -37.90078 146.80617, -38.05706 145.39273, -37.85826 146.22904, -38.20895 146.49496, -38.03038 145.49099, -37.93942 145.59196, -38.02584 146.87877, -38.09404 147.1328, -37.68988 148.02969, -37.98274 145.53482, -37.6968 146.64953, -37.55724 149.15529, -38.25057 145.14755, -37.51788 148.16188, -38.35252 146.32835, -37.43719 148.73043, -38.21851 146.29505, -38.44659 146.12949, -38.14769 145.33606, -37.93353 146.76857, -38.23429 145.23459, -38.09634000000001 145.84492, -38.14537 145.60474, -38.78224 146.04367, -38.48226 145.84986, -38.17246 147.01092, -37.9545 145.3843, -38.40619 145.8564, -38.73121 146.12298, -38.53203 146.69563, -38.64506 146.24118, -38.17955 147.23112, -38.15788 146.55368, -38.20302 146.4483, -37.25867 145.70504, -37.17787 145.31547, -36.90718 144.22051, -36.04905 146.16875, -38.57448 145.71817, -37.4268 144.35072, -38.5777 146.30104, -37.88669 145.59778, -38.29264000000001 147.03408, -38.00302 147.19082, -35.7947 144.17216, -38.46618 144.91496, -37.05147 143.71448, -37.83354 146.67949, -37.41187 143.98271, -36.19901 144.54027, -34.5109 142.34057, -38.17358 146.66053, -38.20632 141.63752, -38.20373 141.73134, -36.77456 145.82284, -37.45916 145.03148, -36.1821 146.61372, -36.19915 145.03023, -38.15189 145.48591, -36.22517 146.37804, -37.59958 146.20527, -36.59036 145.03158, -37.30461 144.59393, -34.24765 142.20607, -37.64282 147.95986, -37.94421 146.8673, -37.63804 141.94985, -37.87858 146.37894, -37.61558 142.23223, -37.55842 141.50189, -37.8246 143.61479, -37.41559 145.56473, -37.7083 145.20079, -36.21377 146.97812, -36.01967 145.46035, -37.00989000000001 145.03162, -37.02184000000001 144.86973, -38.33854 142.3383, -38.5829 146.87555, -36.14543 145.14646, -38.27597 146.3864, -37.66457 144.41337, -36.51673 145.43184, -37.78424 147.01474, -38.25241 146.46584, -37.34222000000001 145.50621, -37.65016 143.67551, -38.42901 146.35106, -36.84255 144.28886, -36.61961 143.71886, -38.33877 142.71981, -36.78374 145.10069, -37.80323 144.69621, -37.61443 144.50764, -38.26808 141.66186, -37.6218 143.77759, -37.95492 146.80827, -38.23431 145.08943, -37.54128 144.94524, -37.86337 144.23316, -37.6079 145.18342, -36.80581 144.29654, -37.14603 144.88636, -37.89431 145.42282, -37.3339 144.95927, -36.34903 146.66365, -36.34894 146.663, -36.68466 145.49487, -38.1446 145.41236, -38.61835 142.92506, -37.93366 145.30434, -37.95279 144.31901, -37.50634 145.13706, -36.66475 144.21698, -36.48804000000001 145.53217, -38.27624 145.54714, -38.58046 146.11853, -36.5725 145.01996, -37.63646 143.97594, -37.97559 144.14424, -38.29459 146.14221, -37.51339 144.2228899999999, -36.93235 145.66435, -37.96442 144.13939, -36.31369 145.16242, -38.06486 145.52341, -37.64093 145.21938, -36.88147 146.31348, -37.56062 145.88537, -38.46365 145.24234, -37.59477 143.74993, -36.42436 143.57731, -36.96642 142.32407, -38.21747 141.43438, -36.53054 146.81609, -36.16963 146.9309, -34.50524 142.36448, -37.43686 143.40921, -37.89137 144.21444, -36.78652 145.96597, -37.83214 141.86816, -38.8098 146.20206, -37.97223 146.41808, -37.83553 145.58442, -38.3707 145.70589, -37.34555 145.03134, -37.24713 145.18992, -36.765 143.67255, -36.2254 144.9926, -36.79923 144.38804, -37.53705 149.16003, -37.60382 144.98211, -37.40246 145.45881, -37.2693 145.45857, -36.46056 146.67802, -35.97606 145.62319, -38.28025 143.29946, -38.13448 142.13625, -38.22393 145.21388, -35.99912 145.48405, -37.62432 144.46786, -37.62866 144.82773, -38.45251 146.31905, -37.28753 144.44436, -37.96952 146.37205, -37.71932 144.71529, -37.83826 144.73297, -38.1893 146.49129, -38.14617 143.22697, -37.17497 145.22041, -38.18924000000001 146.49054, -38.12897 145.56021, -36.5022 145.2228, -38.2134 143.11601, -35.76123 143.9514, -36.19911 145.57084, -38.65208 146.30758, -37.95095 145.62332, -38.1843 145.3424, -37.03223 144.795, -37.10333 146.24494, -37.24853 142.6328, -36.80918 144.19435, -36.34734 145.41579, -37.11745 147.61741, -37.82395 144.73639, -36.34431 146.75896, -37.7096 145.39829, -38.55133 143.53287, -36.38777 146.57473, -37.03951 145.18789, -37.81013 147.15126, -36.57513 145.22278, -36.44994000000001 144.96667, -36.31692 147.83852, -38.34635 144.99532, -38.34894 144.25884, -37.2795 143.33573, -36.65438 145.01974, -37.06602 145.8547, -38.5861 142.83979, -37.3948 144.93886, -37.63135 144.85297, -37.33801 141.38935, -38.17626 144.47351, -38.13924 145.37019, -38.50917000000001 145.13293, -37.36348 142.50824, -38.10034 146.96345, -37.95694 145.50243, -37.0932 144.61024, -38.04964 147.5779, -37.54519000000001 144.6507, -36.57795 146.51181, -37.89381 147.67252, -38.43058 143.4828, -37.68915 145.51894, -38.65052 146.2243, -35.99516 145.86901, -37.84532 145.52452, -37.99133 144.50687, -37.246 143.51442, -36.88449 142.46216, -36.95426 146.20677, -36.73131 146.99557, -37.24571 145.19922, -38.1906 143.03157, -36.58128 145.00282, -38.77741 146.04701, -35.96957000000001 145.71876, -38.03576 145.48544, -37.72345 145.29373, -37.70834 142.09679, -36.60256 145.14898, -37.17003 142.22566, -36.41866 145.63598, -37.05299 144.27608, -38.23596 147.12578, -36.44638 146.23865, -36.46526 145.0139, -38.13623 145.34636, -38.31149 143.723, -38.03718 144.35676, -37.61217 143.93784, -37.17454 146.05353, -37.48992 144.3047, -37.62455 145.44829, -37.92805 147.26003, -38.13901 145.92107, -37.60354 145.37238, -36.4472 146.38252, -35.85403 145.55938, -37.27989 144.10787, -38.04825 144.14472, -38.27565 144.23314, -38.11155 146.74408, -38.64702 146.47363, -38.08175 141.67108, -38.286 143.1203, -38.17666 145.71628, -36.67432 144.19893, -34.78355 142.63479, -35.46564 143.6388, -36.21108 145.43184, -37.65425 141.32615, -36.17758 146.95261, -37.34053 145.72222, -38.21136 144.51406, -36.05353 145.99545, -36.05714 145.99545, -37.2791 146.13145, -36.1484 146.31887, -37.47296 143.79988, -36.34032 145.0677, -37.74558 147.81902, -38.40268 146.22236, -37.6594 144.23027, -37.89181 141.97111, -36.8745 142.44912, -35.96158 145.69863, -36.39521 146.63808, -36.99273 145.73946, -37.60965 143.73663, -38.34819 146.71522, -38.62878 146.23314, -37.54069000000001 145.02966, -37.62447 143.77532, -37.23482 144.35348, -37.69743 143.15099, -38.19028 143.19664, -38.55865 143.5968, -36.71661 144.22574, -37.09547 144.1205, -37.13456 148.90791, -38.32104 146.72185, -37.62968 144.47062, -37.53415 145.11166, -34.38297 141.61955, -37.1264 144.67283, -36.58004 145.91117, -37.46773 145.42446, -37.5995 146.16924, -37.94554 144.16883, -37.87762 144.07761, -36.10314 144.85431, -37.56982 146.25667, -37.0573 143.65628, -37.51098 145.224, -37.42685 144.42842, -38.20936 146.78467, -37.30332 143.9231, -35.97162 145.47842, -37.36494 141.15455, -37.95989 145.50356, -36.22568 144.5999, -37.258 145.84468, -36.08461 147.06748, -37.81352 141.58303, -34.10314 141.03297, -36.89141 144.67701, -36.01408 146.61734, -37.71881 144.71106, -37.12677 145.22225, -37.35071 144.75538, -36.8632 145.57951, -38.07535 144.2323, -36.4292 146.06817, -36.64325 144.97982, -37.7232 144.70962, -37.05354000000001 144.29344, -37.39302 144.52723, -36.96597 144.17279, -37.47417 145.23774, -36.96266 145.18271, -37.36521 144.04627, -38.06588 146.87169, -36.26551 146.5609, -36.83942 144.3498, -37.7646 143.77982, -37.42397 143.8636100000001, -38.61458 146.06922, -35.99919000000001 145.42498, -38.50247 142.77833, -36.75328 144.76901, -38.5809 146.84761, -37.91558 144.2573, -38.30144 145.56287, -36.97424 144.12598, -37.06586 146.35487, -37.97856 145.46433, -36.07337 145.22546, -36.243 145.4318, -36.49862 144.98239, -37.63976 145.21296, -35.94319 144.3739, -37.59416 144.58385, -36.63848 144.20587, -38.22122 145.83919, -38.21309 144.16666, -37.5494 143.98648, -37.65637 145.47089, -36.88964 144.31278, -38.20679000000001 142.86473, -38.37946 144.24609, -36.78641 144.38218, -36.37673 145.29553, -38.05936 147.5658, -35.7365 143.97396, -37.6632 144.22964, -37.90632 144.0909, -36.85586 142.3790100000001, -37.26083 141.44051, -38.30468 142.55007, -38.07189 147.10496, -36.87134 144.74288, -36.75494000000001 144.34806, -37.07389000000001 146.11987, -36.24181 144.573, -37.25364 144.8689, -37.73741 147.86073, -36.87965 144.73794, -37.54374 149.44229, -36.35663 147.44096, -37.57019 145.12542, -37.65319 144.73963, -36.68042 144.37996, -37.94296 145.32076, -38.24219 144.38273, -38.7368 146.0756, -37.78815 144.56743, -37.6102 144.60542, -37.18795 145.06963, -37.53312 145.34327, -37.17978 146.01752, -38.37168 145.01663, -37.70259 143.52173, -37.44463 144.51588, -36.44366 145.01172, -38.26755 141.66312, -38.43626 144.89693, -38.15812 146.42124, -38.05539 141.0741, -37.38617 145.02934, -36.2746 144.6735, -35.97323 145.53163, -37.38286 143.37052, -36.2624 145.63267, -35.9416 145.63184, -36.29021 145.39937, -37.62417 145.25691, -36.58183 143.95743, -36.77804 143.91804, -38.15708 142.89422, -37.24489000000001 145.7734, -36.76357 146.86185, -36.57891 146.16612, -37.03595 143.76679, -37.14632 142.46669, -38.21357 146.0012, -36.4919 146.78294, -38.41816 143.93506, -37.60439 144.58932, -37.27733 145.46152, -38.43774000000001 143.66305, -37.69641 145.59163, -36.77374 145.15519, -37.92067 145.54602, -36.86368 145.87316, -38.32978 147.2497, -37.02113 143.80462, -36.39447 142.01931, -36.86597 144.38421, -38.31092 142.34771, -38.28947 144.35208, -37.55305 144.57317, -38.01356 143.98743, -37.68756 144.70054, -37.54728 145.01376, -36.89196 144.67777, -36.31208 146.20778, -36.66094 146.25035, -37.41034000000001 143.97532, -37.06706 145.10123, -38.20744000000001 145.87959, -37.08784 142.33493, -38.06745 144.03386, -37.51387 145.73416, -38.54285 146.28079, -37.31023 144.22941, -37.02877 145.1065, -38.10008 145.91259, -37.39725 142.3344, -37.75729000000001 145.55907, -37.76043 147.70465, -34.93342 141.85463, -37.93799 144.12244, -35.93136 145.33174, -38.08455 146.99421, -37.50455 145.31166, -38.39234 146.1414600000001, -36.11037 144.17599, -38.2218 144.06322, -36.61569 145.22963, -37.68848 144.70839, -37.52645 145.41807, -36.06987 145.68704, -38.34877 142.9189, -36.41696 145.08629, -37.4357 143.41167, -36.94981 144.33916, -37.72107000000001 144.72832, -37.61414 144.70943, -36.91059 143.84112, -35.56561 142.40085, -36.45596 144.9237, -38.34543 144.18068, -36.33309000000001 145.46196, -36.85456 144.75564, -38.2384 145.7090600000001, -37.13496 144.34506, -37.42989 145.70317, -34.23569000000001 142.19025, -38.16197 145.67442, -35.78725 144.21156, -38.44602 143.54086, -37.5257 145.67027, -35.78159 143.93714, -36.67298 145.19641, -37.45987 145.08333, -38.07009 142.7872, -37.24563 145.77454, -37.84954000000001 147.34755, -38.01467 145.98556, -37.66188 147.60533, -38.35628 144.26577, -37.21554 144.41482, -38.40205 146.96866, -37.36783 144.28208, -37.9326 145.30218, -38.14264 145.30972, -38.47597 145.1927, -34.27518 142.10978, -37.52906 148.53037, -36.04013 146.41776, -37.39319 144.12171, -38.31906 142.3769, -37.94797 141.65903, -38.28821 146.24678, -37.08634 146.24669, -37.89142 144.48536, -37.21004 144.78931, -37.23926 143.11707, -38.00008 146.85317, -36.60408 146.42946, -37.62682 143.26813, -36.07421 145.36801, -37.12442 145.52603, -37.58503 141.81457, -37.40642 143.84829, -37.23061 143.6157, -36.76452000000001 141.8367, -36.31567 144.68545, -38.21301 145.8431399999999, -36.47051 147.01718, -37.66268 145.25392, -38.32811 142.38426, -36.8537 144.35525, -36.13563 146.96343, -38.38777 142.84202, -37.52333 143.89131, -37.28902 144.97976, -36.42215 145.88946, -36.99129 144.7747, -37.59286 143.70972, -38.34198 141.56152, -38.33087 145.59791, -37.08852 143.3777, -35.98865 145.63123, -38.07543 146.86963, -38.2443 143.68003, -38.35725 145.73931, -37.46593 143.58705, -38.25856 144.41756, -37.04487 142.7323, -38.06989 145.58038, -36.52308 143.60894, -36.05081 141.85233, -36.82846 145.56601, -38.50237 145.95189, -36.25884 145.4317899999999, -36.96579000000001 144.25959, -37.71475 143.57726, -37.51012 144.95005, -38.43031 146.53795, -37.02452 145.09995, -37.49332 144.1299, -36.31609 147.05703, -37.18375 144.89319, -36.96843 144.31244, -38.57386 145.97791, -38.08365 145.75542, -37.28778 143.3825399999999, -37.14933 144.35169, -36.71327 146.94299, -36.32589 146.37296, -38.09483 141.6547100000001, -37.28048 145.57098, -36.54029 146.75097, -38.3535 145.12729, -37.80216 147.47235, -37.39279000000001 143.75074, -38.42139 142.64297, -37.18902 143.7422, -36.79888 144.33131, -36.41411 145.22263, -37.3279 145.94332, -34.2985 142.16395, -37.84464000000001 147.05523, -36.13064 145.62808, -37.91964 142.11393, -36.91051 142.38183, -36.53393 147.37665, -37.84463 142.07191, -37.24901 145.1702399999999, -36.13421 146.59154, -36.83037 144.71063, -38.41347 146.8169600000001, -36.76251 144.58201, -38.61543 142.95937, -37.55645 144.18889, -37.93222 144.2278, -37.89413 147.65843, -37.34141 143.12166, -37.64853 145.32799, -36.47092 145.43185, -37.65334 142.32566, -37.35963 148.68377, -35.69730999999999 144.03535, -36.62333 144.5190899999999, -35.95591 147.48143, -37.4397 143.33424, -36.43216 146.29183, -37.09564 144.97496, -37.09527 147.4196600000001, -38.0717 141.15331, -36.80998 144.1787, -38.5397 145.588, -38.30685 143.7420100000001, -37.02245 145.69127, -37.37993 144.01684, -36.27146 146.65097, -36.9877 145.14299, -38.76504 143.66083, -37.18088 145.2508, -37.44728 142.44978, -36.47291 146.66779, -37.64419 143.8651, -37.25082 145.9591, -35.83558 142.87831, -37.89841 144.12593, -37.29822 143.78588, -36.59743 145.83782, -38.25968 146.29432, -36.93277 144.75553, -38.39286 142.62822, -36.40041 146.55504, -38.33213 143.8406, -38.3984 144.90126, -37.25835 146.14289, -38.03961 145.83578, -37.73146 144.66553, -37.52426 142.21955, -38.28488 141.62966, -37.67537 144.46685, -38.00679 141.01318, -37.76928 144.02091, -35.99227 142.9786, -37.09921 144.06634, -37.86016 146.62749, -37.77584 145.59697, -37.42362 145.05636, -37.81345 144.6946, -38.43124 145.86281, -38.05425 142.81868, -37.56485 144.27945, -38.28774 144.33762, -37.05636 146.04304, -37.0113 141.21002, -38.24852 146.52751, -37.34889 143.13764, -34.69001 142.8616, -37.35065 144.55514, -37.51834 145.02693, -38.24522 145.5393, -36.71148 144.41616, -37.27779 144.95223, -37.56651 149.10776, -37.29108 145.05491, -37.50177 143.97334, -37.22262 141.91485, -36.91229000000001 145.83865, -37.26644 143.74279, -37.4129 143.91635, -36.9593 144.24115, -37.56899 141.25545, -36.22006 145.47795, -38.34492 144.17296, -38.213 144.63764, -36.91966 144.69087, -38.41178 143.89305, -36.82355 146.0079899999999, -37.86642 146.91422, -37.63284 144.8645399999999, -36.97763 145.71242, -37.46018 144.63625, -35.99798 146.48125, -37.80349 145.52448, -38.19556 145.57832, -37.57937 143.91445, -37.92449000000001 142.17642, -36.81393 144.29311, -37.5259 142.41092, -36.8848 144.31319, -38.11385 144.17088, -36.92922 146.23873, -37.15499000000001 142.52781, -36.14639 147.42935, -38.28319000000001 141.63231, -36.94564 142.5648100000001, -36.86886 144.21884, -36.32221 146.68375, -37.37111 146.05806, -36.37247 145.1919, -38.35656 143.98914, -37.53186 144.68798, -35.90585 144.3076, -36.29905 144.4296, -37.15637 145.65834, -37.61139 144.8397399999999, -36.86486 143.33302, -37.69875 143.87835, -37.37878 144.47861, -37.71524 145.22532, -37.61075 144.60664, -36.69258 146.88118, -36.13268 146.39563, -36.97045 144.2493899999999, -37.2791 144.60706, -37.34751 143.13462, -37.53583 145.02911, -34.32528 142.06915, -38.16958 145.37502, -36.33499000000001 145.31641, -36.84221 144.60447, -38.26276 146.5318, -37.02917 145.86846, -36.77354 146.35923, -37.14369 142.52023, -38.07045 145.58263, -37.66652 144.45493, -37.497 145.419, -37.18352 146.34344, -36.59578 145.22533, -38.35705 144.27234, -37.41937 144.99371, -37.82594 143.88781, -37.61594 145.1738, -37.65424 143.90295, -37.68749 141.9576, -37.12827 142.53969, -38.54869 145.5931399999999, -36.62142 143.28012, -37.65835 144.70272, -36.0772 146.27514, -38.06846 141.18769, -36.57963 145.89163, -37.19255 143.37375, -37.75011 145.72949, -38.34968 144.2573, -36.18234 144.71491, -35.7916 144.20518, -37.85044 147.64621, -37.7757 145.58858, -37.58985 144.87969, -37.47404 144.62018, -36.34534 146.75913, -37.60549 144.99954, -37.49619000000001 144.50008, -36.85816 144.22435, -36.56381 144.33799, -36.80813 144.18062, -38.17277 146.34621, -36.59627 143.93891, -36.50448 147.2275, -38.20908 142.42082, -37.18482 144.99665, -37.9264 144.72247, -36.22394 147.66716, -38.14108 142.33045, -37.96751 145.31709, -38.14297 145.39923, -36.415 145.34478, -37.81553 147.74866, -37.59649 145.05932, -36.13453 145.19027, -37.60121 146.641, -36.96483 145.99738, -38.27872 146.32075, -36.82648 144.27673, -37.97023 145.46284, -36.13335 147.00453, -36.06816 145.43183, -37.7244 147.88261, -38.59524 143.80251, -37.6159 145.03004, -36.32745 146.86662, -36.79336 144.54298, -37.47437 145.02384, -37.75427 145.67018, -37.80951 144.60327, -38.25359 143.25069, -37.18498 142.2282, -37.57408 142.38377, -37.74838 144.71241, -37.62576 144.64879, -37.38528 148.62615, -38.20921 146.32038, -36.07845 146.18966, -37.06374 145.36158, -38.29919 145.1456, -37.54755 144.46675, -38.09779 146.03779, -34.65669 142.83409, -37.31507 145.35924, -37.01515 144.24221, -37.51907 145.02719, -37.48089 144.96996, -37.98072 146.80202, -37.26125 144.73645, -38.32839 143.85019, -38.0473 146.94805, -38.34658 141.4958, -37.89288 144.25522, -37.13128 147.5245, -36.97898 143.30812, -37.58734000000001 144.85914, -36.82364000000001 146.00801, -38.45417 145.64658, -38.29423 146.70179, -36.49354 146.83432, -38.27724 146.84521, -37.42391 143.34948, -37.42565 143.35686, -37.27584 143.29849, -38.35484 146.2705, -38.2775 146.84514, -36.62239 143.49142, -36.31364 145.22165, -37.31509000000001 144.74035, -37.48474 144.02387, -34.1877 141.99703, -37.23957 145.05399, -37.31179 143.46588, -36.79105 145.79328, -38.52013 146.60565, -38.18562 146.27747, -37.39611 144.94457, -37.6228 145.02654, -36.54372 147.40129, -37.68105 143.5772, -37.67671 144.03063, -34.39416 142.18668, -36.8241 142.00427, -38.30771 142.35278, -37.32642 144.23214, -36.84816 144.1554, -37.37631 147.18557, -37.30128 145.3734, -36.69951 146.41749, -37.70231 145.21219, -37.30858 144.4131, -36.10774 144.12614, -36.27388 144.88223, -38.17321 145.40282, -38.38151 146.35752, -35.70346 144.01931, -37.42227000000001 145.66982, -37.77553 145.49786, -37.74522 145.31594, -37.10025 142.39406, -36.65562 144.49394, -38.21071 146.0545, -38.3283 144.15127, -35.81264 143.95569, -37.848 145.52773, -37.52011 144.00466, -37.21775 144.46865, -34.40929000000001 142.28586, -37.68484 145.4796899999999, -36.62146 143.69027, -37.81981 143.75738, -36.70355 147.21104, -36.15876 147.52024, -36.66926 147.43948, -37.67378 145.5093, -37.13423 144.39135, -36.85684000000001 145.09581, -37.59605 145.05256, -37.0884 143.33801, -36.75499 147.01992, -35.9244 144.10042, -37.7145 144.63768, -37.48954000000001 145.21888, -37.62233 142.34174, -37.57586 145.21744, -37.60372 144.98127, -36.21975 147.65438, -36.74293 144.68954, -37.98306 145.44202, -37.4201 145.01253, -35.92548 145.32307, -37.22768 145.13499, -36.10443 144.12271, -37.88236 147.41636, -37.55579 144.64918, -37.69467 144.58686, -37.21286 144.57824, -38.29689000000001 143.80139, -38.08167 145.44129, -37.67977 148.05381, -35.85908 144.2262, -37.47923 144.52672, -38.04377 145.48111, -37.35083 144.11763, -38.15276 142.25516, -37.29804 145.11567, -38.73523 143.30489, -37.19838 143.73915, -37.68482 145.47948, -37.90838 147.32151, -38.35205 142.65919, -37.77723 147.803, -37.2641 143.95862, -36.59818 147.10478, -37.20418 145.35871, -37.53375 145.70728, -38.36155 146.32255, -37.62589000000001 145.21534, -37.25003 144.38914, -37.23589000000001 144.3614, -37.55461 145.08074, -37.9534 146.79948, -37.31639000000001 145.04802, -37.89171 145.7239, -36.65733 145.97255, -37.10286 144.29701, -38.31914 142.36494, -38.34384 142.23334, -38.11653 145.46562, -38.38863 146.16752, -37.0294 146.09289, -37.99602 144.50549, -37.57678 148.54554, -37.93213 146.1135, -34.27554 141.29837, -37.81847 147.81478, -38.07277 142.71917, -38.16197 146.87555, -38.24118 141.52345, -37.8693 145.56067, -37.52285 143.97383, -36.23716 146.63021, -36.41731 145.71011, -36.38641 145.38226, -36.80144 143.56143, -36.77264 144.35632, -37.8737 141.40776, -36.29607 147.39527, -37.14415 144.94645, -38.42132 143.54428, -36.94698 146.20191, -36.043 146.43153, -36.32854 146.46473, -37.31416 144.64981, -36.58841 146.45008, -37.38406 145.71124, -37.49116 143.83151, -36.24592 142.44274, -36.76687 144.37996, -37.24162000000001 142.90754, -34.72031 143.11812, -35.85247000000001 144.2729, -38.32817 142.36762, -38.06383 144.02081, -36.65797 146.69338, -38.36122 142.75943, -37.37656 142.28369, -37.43613 144.74617, -37.12982 144.35366, -37.13259 142.4997, -36.45712 143.60147, -36.77113 144.3996, -37.87775 142.29858, -36.6007 145.1410100000001, -36.83925 144.27984, -37.03474 144.23712, -37.49616 144.50013, -38.36168 146.63145, -37.00635 144.50604, -36.77272 144.3706, -38.51483 146.6485, -36.59157 146.76463, -36.36734000000001 145.34198, -36.33805 146.34017, -38.30154 142.79358, -36.48731 144.32274, -38.24021 141.86189, -36.38272 146.59452, -36.84984 144.1551, -37.5975 145.06876, -37.33543 145.01811, -38.33593 143.52008, -37.17413 142.62476, -36.41817 145.86597, -37.23092000000001 142.88591, -36.96398 143.65941, -37.09892 144.0665, -37.4522 144.57598, -37.28578 146.14876, -36.96102 144.75148, -34.85115 142.29779, -37.79775 143.76943, -38.34543 144.98765, -37.33879 143.41952, -37.69224000000001 141.8953100000001, -38.30148 146.42186, -38.01835 146.67041, -37.19819 144.47228, -38.39266 143.80174, -37.60484 145.25848, -37.19235 145.09652, -37.6098 143.91142, -37.3024 144.99395, -37.61525 144.61611, -37.62874 144.70451, -37.9211 147.2797100000001, -37.52786 145.7236, -37.61518 143.61105, -38.19222 146.21235, -38.39135 146.4111, -37.34681 144.99977, -37.35723 142.18707, -37.11007 146.3967, -37.4254 145.05703, -38.19067 147.28143, -36.93344 143.3308, -36.55612 145.35849, -37.04443 144.2826, -37.51918 144.47755, -37.41935 145.00215, -37.86507 142.79282, -37.53462 144.30078, -37.62971 143.963, -38.09968 146.84857, -36.29873 144.93297, -37.11923 144.76045, -37.11482 145.21034, -37.79033 147.11181, -36.38251 146.59817, -36.90064 144.68882, -36.9538 142.57924, -38.16803 143.21611, -36.39776 146.2484600000001, -37.37312 143.3688399999999, -37.68405 144.49443, -37.22796 142.53889, -37.63527 145.58346, -38.59953 145.7789, -36.68096 144.37393, -38.56973 145.83916, -36.75537 147.02027, -37.01245 144.93661, -37.49855 144.68355, -37.93213 141.29457, -38.10858 146.89406, -36.78868 144.33307, -38.47594 144.93098, -36.57973 144.97552, -37.42009 145.02282, -37.09058 143.37473, -37.44407 145.67692, -37.68104 143.57911, -37.59211 145.14059, -36.13051 146.6489, -36.60508 145.81691, -37.1588 148.25898, -38.21029 144.36881, -37.65878 145.27127, -38.0214 146.28797, -38.12841 145.92866, -37.30533 144.73761, -38.38331 144.17284, -36.07411 145.31383, -37.227 143.25557, -36.75869 142.13533, -37.53988 145.38964, -38.04347 141.96422, -37.64834000000001 144.7365, -37.78214000000001 143.76376, -38.49715 145.73289, -37.09772 145.08521, -37.38055 144.34443, -37.60251 144.97135, -36.61786 147.01357, -36.08071 146.76241, -38.03873 146.62564, -36.28401 145.11353, -37.52103 144.32172, -37.64592 144.6020600000001, -36.79708 147.71526, -36.25484 146.85796, -37.65442 145.43276, -37.98022 145.58427, -38.23869000000001 146.45006, -37.90047 143.71736, -37.59007 145.50501, -38.57665 145.69314, -38.31212 142.76243, -37.59909 144.76059, -37.10599000000001 144.4278100000001, -36.69726 144.25776, -37.39349 144.97715, -36.80921 144.29143, -36.98045 144.76999, -36.71748 145.19501, -38.35219 142.46165, -37.65616 145.16819, -38.04541 144.31432, -36.80428 145.8588, -37.78475 144.69904, -37.37501 143.20381, -36.63757 146.19608, -37.52908 145.43571, -37.56242 145.31525, -37.63385 144.49385, -38.37342 144.24042, -36.94816 146.20088, -38.4413 143.77405, -38.245 143.16693, -38.16636 145.3508399999999, -37.31414 144.65233, -37.42983 145.71439, -36.96285 143.73344, -36.81693 144.1574, -36.82886 144.17726, -37.33334 143.09179, -36.04924000000001 146.54593, -37.62724 144.73763, -37.86167 144.13554, -36.81101 144.17028, -37.97939 145.46309, -36.91193 147.45802, -38.42293 146.03998, -37.41668 145.09613, -38.31093 143.66684, -37.49426 144.47975, -36.457 145.40069, -37.85089 147.60579, -36.09644 145.21694, -37.63151 144.85446, -37.6252 144.5957, -37.25522 144.96951, -37.49508 145.1544, -36.98318 143.76797, -38.1483 146.25444, -37.14599000000001 144.95483, -37.42873 143.84695, -36.00803 144.97653, -38.36058 146.56511, -35.99908 145.24528, -37.17033 144.036, -37.60391 144.88316, -36.05291 146.36637, -37.99721 143.05128, -36.42807 146.26016, -34.27596 141.50239, -35.84583 144.22837, -36.92503 146.53237, -37.36855 147.27446, -36.84603 144.31876, -37.55171 141.09596, -37.8965 143.71886, -34.81061 142.81463, -36.44927 142.53888, -37.38261 143.37045, -38.30744 146.55499, -37.523 143.92379, -36.0219 145.04943, -37.30782 144.23167, -38.35963 145.87361, -37.42362 144.73437, -38.63103 146.56482, -37.21264 145.09381, -37.50578 144.76143, -38.37632 143.98318, -37.4609 144.927, -38.3 145.63952, -36.88413 142.46168, -37.62256 142.34158, -38.31009 146.49187, -37.49502 145.1545, -38.12602 146.46958, -37.59374 145.16288, -38.55726 145.71504, -36.87841 144.69449, -36.64064000000001 143.23362, -36.93034 144.29582, -38.12252 144.21928, -37.92408 146.88341, -37.21406 144.35008, -37.39643 145.12967, -37.17379 145.1389899999999, -36.39094 146.6902600000001, -38.45533 143.06085, -36.03842 145.32654, -37.43428 145.05956, -38.20427 146.45533, -36.4294 145.69236, -37.90005 143.69093, -37.46831 145.24006, -37.74838 148.3726899999999, -37.53044000000001 145.11232, -37.60752 145.18994, -36.19925 145.38911, -37.3849 142.50185, -37.3465 144.55124, -38.29012 145.62216, -38.55815 145.71466, -37.4328 144.98232, -37.39833 144.70528, -37.45834 145.03157, -36.26035 146.41648, -37.17438 144.35871, -37.65904000000001 143.68051, -34.50249 141.99387, -37.92027 147.28339, -37.97618 146.63435, -36.25097 145.0495, -38.00204 147.39058, -38.20615 143.17374, -37.16409 145.29336, -38.00537 145.55469, -37.66404 147.87379, -37.68306 144.47153, -36.67555 144.39462, -38.21648 141.43068, -38.32635 144.10364, -36.22089 146.24879, -37.62695 144.16012, -38.18784 141.71181, -37.37329 144.33735, -37.53973 144.60603, -36.85848 143.8777, -37.53051 141.28067, -38.05263 142.88721, -36.325 145.30037, -37.46405 144.9256600000001, -36.13489000000001 144.1315, -37.59418 145.03559, -36.34744 146.80282, -36.96122 144.49111, -38.58359 142.82877, -38.28285 144.27001, -36.14398 147.21919, -38.16604 146.78733, -34.34784000000001 142.03574, -37.2271 144.46694, -38.45911 142.77028, -38.3823 145.73606, -36.88784 141.95893, -37.11156 143.3656, -37.4545 145.03172, -37.38575 145.02945, -38.04498 144.1328, -37.99498 142.57856, -37.61732 145.60252, -36.31215 146.5271100000001, -36.59946 144.24605, -36.13509000000001 146.64721, -38.90919 146.25275, -37.9707 146.08713, -36.83718 144.23794, -37.63943 147.89621, -36.52088 145.88641, -37.46255 145.03211, -37.86914 145.77181, -36.29673 145.43768, -37.19575 145.76012, -36.84203 144.48143, -37.80804000000001 145.57105, -37.27876 144.29427, -38.01975 146.88145, -38.20256 146.4210399999999, -36.30172 145.41582, -37.03929 145.05892, -38.32024000000001 142.73888, -37.2457 145.17241, -37.86151 147.51185, -38.17836 144.61392, -37.61185 144.70719, -38.20491 146.17399, -37.64399 142.3432, -37.94608 143.99678, -37.15542 144.63637, -36.84023 144.29183, -36.81458 144.31171, -37.75369 148.32608, -38.27367 142.33756, -38.17341 147.18288, -38.27058 143.07333, -37.33714000000001 143.83558, -37.7529 148.33502, -37.88696 145.99857, -36.81093 144.16955, -36.81128 145.17411, -36.12947 144.69598, -37.2037 147.72011, -38.26365 145.54971, -38.65282 146.61515, -37.28063 142.6556399999999, -37.51285 145.68007, -37.35129000000001 144.56007, -38.36582 143.95215, -36.21288 145.00558, -38.45142 142.92277, -36.83535 144.29175, -38.18758 146.48379, -36.88419 145.14246, -37.47727 144.53917, -37.68716 144.69717, -38.16876 144.64619, -37.95464000000001 145.38409, -36.54232 146.76823, -37.17237 142.53722, -37.33537000000001 144.60756, -38.24128 145.1902600000001, -37.22657 145.74969, -37.47107000000001 145.0282, -36.44389 143.65263, -38.4832 146.85409, -36.05869000000001 146.42775, -37.53694 144.58229, -36.01955 146.44165, -37.42773 144.97824, -38.23388 146.79775, -37.9973 145.78369, -36.38357 146.5854399999999, -37.8997 146.02388, -37.13461 144.38929, -38.55607 143.74297, -37.60558 145.0006, -37.366 144.96401, -37.55079 144.86098, -37.81424000000001 144.19417, -36.99151 143.61593, -37.9383 145.38384, -36.86428 145.72222, -36.88657 144.28695, -38.51566 146.81227, -37.37512 144.32314, -38.1955 145.47292, -37.395 144.85736, -37.90426 144.11172, -37.38988 142.93834, -37.52426 144.26497, -37.71567 143.58505, -37.51988 145.60235, -37.59897 145.22154, -37.68097 143.56617, -36.24891 146.63555, -37.34047 145.02989, -37.15301 145.278, -37.62874 144.70448, -37.6854 143.87257, -38.4312 142.65589, -36.6161 144.19952, -37.60297 141.72521, -36.88026 146.3166, -37.023 145.2518600000001, -36.72449 144.19345, -37.56293 145.90502, -38.49661 145.21781, -38.62663 145.75516, -36.17532 147.5454, -37.45071 143.83939, -36.68177 144.22257, -37.75213 148.19206, -36.26219 144.61715, -36.16206 142.26542, -38.36754000000001 146.19907, -37.60007 144.63752, -37.01475 143.90982, -36.98317 142.37076, -37.74621 148.38139, -38.34132 146.73879, -36.05525 145.7526, -38.42137 143.1519, -35.97119 145.72282, -37.14118 142.6517, -36.60055 145.11631, -36.2707 145.46143, -38.74092 145.8945399999999, -37.02184000000001 144.86999, -36.35484 146.34641, -37.38546 145.0295, -38.26389 146.42214, -37.28863 144.97341, -38.3843 146.2566, -37.68128 143.58065, -37.35918 145.71162, -38.14722 147.39525, -37.56576 149.11546, -37.76148 141.01442, -37.16245 144.63954, -35.84417 144.22868, -38.20797 146.32089, -37.68064 143.63162, -36.61564 145.23149, -36.86152 144.22176, -37.7417 147.04565, -34.6184 142.22768, -37.06785 147.34299, -36.6894 144.45171, -36.50203 147.0453, -38.67028 146.43861, -38.26217000000001 144.43572, -37.13054 145.59407, -38.40719 143.96923, -37.92684000000001 146.64093, -38.26136 144.06747, -38.08343 142.97409, -37.74285 144.50897, -38.34395 142.42176, -37.65283 144.58434, -37.83399 147.93126, -37.59544 148.12063, -37.58388 145.10372, -38.21483 146.7856, -38.41426 146.81661, -37.76015 144.09268, -35.88534 144.26365, -38.36931 144.03525, -37.21699 143.73641, -37.63993 145.21219, -36.80931 144.79718, -37.19202 145.32292, -37.6471 144.97471, -38.34121 143.48067, -37.72495 145.34119, -37.29447 144.50288, -38.34673 144.26108, -36.13637 146.9689, -36.00269 147.35663, -38.19348 145.62434, -37.14202 144.077, -36.71903 145.62751, -38.18694 146.47197, -37.05688 144.95759, -36.10902 147.02144, -36.38565 146.67159, -36.37702 147.20805, -36.21969 146.984, -38.26128 145.05814, -38.08525 144.04337, -38.5088 145.35574, -37.54076 143.88496, -38.51341 142.74174, -35.8421 144.19049, -38.09038 145.465, -37.22717 145.01523, -37.61945 146.62868)\n"
     ]
    }
   ],
   "source": [
    "print(orig)"
   ]
  },
  {
   "cell_type": "code",
   "execution_count": 105,
   "metadata": {},
   "outputs": [],
   "source": [
    "origin_dest = []\n",
    "for each in list2:\n",
    "    origin_dest.append(nearest_points(each, dest))"
   ]
  },
  {
   "cell_type": "code",
   "execution_count": 108,
   "metadata": {},
   "outputs": [],
   "source": [
    "nearest_np = []\n",
    "incidents = []\n",
    "for i,j in origin_dest:\n",
    "    incidents.append(i)\n",
    "    nearest_np.append(j)"
   ]
  },
  {
   "cell_type": "code",
   "execution_count": 109,
   "metadata": {},
   "outputs": [
    {
     "data": {
      "text/plain": [
       "2016"
      ]
     },
     "execution_count": 109,
     "metadata": {},
     "output_type": "execute_result"
    }
   ],
   "source": [
    "len(incidents)"
   ]
  },
  {
   "cell_type": "code",
   "execution_count": 110,
   "metadata": {},
   "outputs": [
    {
     "data": {
      "text/plain": [
       "2016"
      ]
     },
     "execution_count": 110,
     "metadata": {},
     "output_type": "execute_result"
    }
   ],
   "source": [
    "len(nearest_np)"
   ]
  },
  {
   "cell_type": "code",
   "execution_count": 115,
   "metadata": {},
   "outputs": [
    {
     "name": "stdout",
     "output_type": "stream",
     "text": [
      "POINT (-38.6466 143.0748)\n"
     ]
    }
   ],
   "source": [
    "print(nearest_np[0])"
   ]
  },
  {
   "cell_type": "code",
   "execution_count": 119,
   "metadata": {},
   "outputs": [
    {
     "name": "stdout",
     "output_type": "stream",
     "text": [
      "POINT (-37.61945 146.62868)\n"
     ]
    }
   ],
   "source": [
    "print(incidents[2015])"
   ]
  },
  {
   "cell_type": "code",
   "execution_count": 130,
   "metadata": {},
   "outputs": [],
   "source": [
    "np_list_arrays = [ ((geom.xy[0][0], geom.xy[1][0])) for geom in nearest_np ]\n",
    "\n",
    "np_lat = []\n",
    "np_long = []\n",
    "for array in np_list_arrays:\n",
    "    np_lat.append(array[0])\n",
    "    np_long.append(array[1])   "
   ]
  },
  {
   "cell_type": "code",
   "execution_count": 135,
   "metadata": {},
   "outputs": [
    {
     "data": {
      "text/plain": [
       "Index(['ACCIDENT_NO', 'ACCIDENT_DATE', 'ACCIDENT_TIME', 'ACCIDENT_TYPE',\n",
       "       'ACCIDENT_TYPE_DESC', 'DAY_OF_WEEK', 'DAY_WEEK_DESC', 'DCA_CODE',\n",
       "       'DCA_DESC', 'DIRECTORY', 'EDITION', 'PAGE', 'GRID_REFERENCE_X',\n",
       "       'GRID_REFERENCE_Y', 'LIGHT_CONDITION', 'LIGHT_CONDITION_DESC',\n",
       "       'NODE_ID_x', 'NO_OF_VEHICLES', 'NO_PERSONS', 'NO_PERSONS_INJ_2',\n",
       "       'NO_PERSONS_INJ_3', 'NO_PERSONS_KILLED', 'NO_PERSONS_NOT_INJ',\n",
       "       'POLICE_ATTEND', 'ROAD_GEOMETRY', 'ROAD_GEOMETRY_DESC', 'SEVERITY',\n",
       "       'SPEED_ZONE', 'NODE_ID_y', 'NODE_TYPE', 'AMG_X', 'AMG_Y',\n",
       "       'LG_AREA_NAME', 'REGION_NAME', 'DEG_URBAN_NAME', 'LATITUDE',\n",
       "       'LONGITUDE', 'POSTCODE'],\n",
       "      dtype='object')"
      ]
     },
     "execution_count": 135,
     "metadata": {},
     "output_type": "execute_result"
    }
   ],
   "source": [
    "rural_accidents.columns"
   ]
  },
  {
   "cell_type": "code",
   "execution_count": 136,
   "metadata": {},
   "outputs": [
    {
     "name": "stderr",
     "output_type": "stream",
     "text": [
      "/Applications/anaconda3/lib/python3.7/site-packages/ipykernel_launcher.py:1: SettingWithCopyWarning: \n",
      "A value is trying to be set on a copy of a slice from a DataFrame.\n",
      "Try using .loc[row_indexer,col_indexer] = value instead\n",
      "\n",
      "See the caveats in the documentation: http://pandas.pydata.org/pandas-docs/stable/indexing.html#indexing-view-versus-copy\n",
      "  \"\"\"Entry point for launching an IPython kernel.\n"
     ]
    }
   ],
   "source": [
    "rural_accidents['NEAREST_NATIONALPARK_LAT'] = np_lat"
   ]
  },
  {
   "cell_type": "code",
   "execution_count": 137,
   "metadata": {},
   "outputs": [
    {
     "name": "stderr",
     "output_type": "stream",
     "text": [
      "/Applications/anaconda3/lib/python3.7/site-packages/ipykernel_launcher.py:1: SettingWithCopyWarning: \n",
      "A value is trying to be set on a copy of a slice from a DataFrame.\n",
      "Try using .loc[row_indexer,col_indexer] = value instead\n",
      "\n",
      "See the caveats in the documentation: http://pandas.pydata.org/pandas-docs/stable/indexing.html#indexing-view-versus-copy\n",
      "  \"\"\"Entry point for launching an IPython kernel.\n"
     ]
    }
   ],
   "source": [
    "rural_accidents['NEAREST_NATIONALPARK_LONG'] = np_long"
   ]
  },
  {
   "cell_type": "code",
   "execution_count": 140,
   "metadata": {},
   "outputs": [
    {
     "data": {
      "text/plain": [
       "Index(['Name', 'TYPE ABBR', 'IUCN', 'Gazetted Area (ha)', 'Area (ha)',\n",
       "       'Declared', 'Latest Gazettal', 'Longitude', 'Latitude', 'IBRA Regions'],\n",
       "      dtype='object')"
      ]
     },
     "execution_count": 140,
     "metadata": {},
     "output_type": "execute_result"
    }
   ],
   "source": [
    "national_parks.columns"
   ]
  },
  {
   "cell_type": "code",
   "execution_count": 141,
   "metadata": {},
   "outputs": [],
   "source": [
    "dfinal = rural_accidents.merge(national_parks, left_on = 'NEAREST_NATIONALPARK_LAT',right_on = 'Latitude', how = 'left')\n"
   ]
  },
  {
   "cell_type": "code",
   "execution_count": 142,
   "metadata": {},
   "outputs": [
    {
     "data": {
      "text/html": [
       "<div>\n",
       "<style scoped>\n",
       "    .dataframe tbody tr th:only-of-type {\n",
       "        vertical-align: middle;\n",
       "    }\n",
       "\n",
       "    .dataframe tbody tr th {\n",
       "        vertical-align: top;\n",
       "    }\n",
       "\n",
       "    .dataframe thead th {\n",
       "        text-align: right;\n",
       "    }\n",
       "</style>\n",
       "<table border=\"1\" class=\"dataframe\">\n",
       "  <thead>\n",
       "    <tr style=\"text-align: right;\">\n",
       "      <th></th>\n",
       "      <th>ACCIDENT_NO</th>\n",
       "      <th>ACCIDENT_DATE</th>\n",
       "      <th>ACCIDENT_TIME</th>\n",
       "      <th>ACCIDENT_TYPE</th>\n",
       "      <th>ACCIDENT_TYPE_DESC</th>\n",
       "      <th>DAY_OF_WEEK</th>\n",
       "      <th>DAY_WEEK_DESC</th>\n",
       "      <th>DCA_CODE</th>\n",
       "      <th>DCA_DESC</th>\n",
       "      <th>DIRECTORY</th>\n",
       "      <th>...</th>\n",
       "      <th>Name</th>\n",
       "      <th>TYPE ABBR</th>\n",
       "      <th>IUCN</th>\n",
       "      <th>Gazetted Area (ha)</th>\n",
       "      <th>Area (ha)</th>\n",
       "      <th>Declared</th>\n",
       "      <th>Latest Gazettal</th>\n",
       "      <th>Longitude</th>\n",
       "      <th>Latitude</th>\n",
       "      <th>IBRA Regions</th>\n",
       "    </tr>\n",
       "  </thead>\n",
       "  <tbody>\n",
       "    <tr>\n",
       "      <th>0</th>\n",
       "      <td>22000004456</td>\n",
       "      <td>22/01/2000</td>\n",
       "      <td>07.58.00</td>\n",
       "      <td>3</td>\n",
       "      <td>Struck animal</td>\n",
       "      <td>7</td>\n",
       "      <td>Saturday</td>\n",
       "      <td>167</td>\n",
       "      <td>STRUCK ANIMAL</td>\n",
       "      <td>VCS</td>\n",
       "      <td>...</td>\n",
       "      <td>Port Campbell National Park</td>\n",
       "      <td>NP</td>\n",
       "      <td>II</td>\n",
       "      <td>2,406</td>\n",
       "      <td>2,404</td>\n",
       "      <td>09/12/64</td>\n",
       "      <td>22/10/08</td>\n",
       "      <td>143.0748</td>\n",
       "      <td>-38.6466</td>\n",
       "      <td>SCP</td>\n",
       "    </tr>\n",
       "    <tr>\n",
       "      <th>1</th>\n",
       "      <td>22000005220</td>\n",
       "      <td>4/02/2000</td>\n",
       "      <td>22.00.00</td>\n",
       "      <td>3</td>\n",
       "      <td>Struck animal</td>\n",
       "      <td>6</td>\n",
       "      <td>Friday</td>\n",
       "      <td>167</td>\n",
       "      <td>STRUCK ANIMAL</td>\n",
       "      <td>VCS</td>\n",
       "      <td>...</td>\n",
       "      <td>Great Otway National Park</td>\n",
       "      <td>NP</td>\n",
       "      <td>II</td>\n",
       "      <td>1,04,034</td>\n",
       "      <td>1,03,985</td>\n",
       "      <td>11/12/05</td>\n",
       "      <td>02/10/12</td>\n",
       "      <td>143.8603</td>\n",
       "      <td>-38.5977</td>\n",
       "      <td>SCP,SEH</td>\n",
       "    </tr>\n",
       "    <tr>\n",
       "      <th>2</th>\n",
       "      <td>22000005532</td>\n",
       "      <td>6/02/2000</td>\n",
       "      <td>22.00.00</td>\n",
       "      <td>3</td>\n",
       "      <td>Struck animal</td>\n",
       "      <td>1</td>\n",
       "      <td>Sunday</td>\n",
       "      <td>167</td>\n",
       "      <td>STRUCK ANIMAL</td>\n",
       "      <td>VCS</td>\n",
       "      <td>...</td>\n",
       "      <td>Mount Eccles National Park</td>\n",
       "      <td>NP</td>\n",
       "      <td>II</td>\n",
       "      <td>8,571</td>\n",
       "      <td>8,571</td>\n",
       "      <td>07/06/60</td>\n",
       "      <td>22/04/97</td>\n",
       "      <td>141.8848</td>\n",
       "      <td>-38.0820</td>\n",
       "      <td>SCP,SVP</td>\n",
       "    </tr>\n",
       "    <tr>\n",
       "      <th>3</th>\n",
       "      <td>22000007624</td>\n",
       "      <td>20/02/2000</td>\n",
       "      <td>00.15.00</td>\n",
       "      <td>3</td>\n",
       "      <td>Struck animal</td>\n",
       "      <td>1</td>\n",
       "      <td>Sunday</td>\n",
       "      <td>167</td>\n",
       "      <td>STRUCK ANIMAL</td>\n",
       "      <td>VCS</td>\n",
       "      <td>...</td>\n",
       "      <td>Brisbane Ranges National Park</td>\n",
       "      <td>NP</td>\n",
       "      <td>II</td>\n",
       "      <td>8,879</td>\n",
       "      <td>8,880</td>\n",
       "      <td>01/12/75</td>\n",
       "      <td>06/09/77</td>\n",
       "      <td>144.2397</td>\n",
       "      <td>-37.8411</td>\n",
       "      <td>SVP,VIM</td>\n",
       "    </tr>\n",
       "    <tr>\n",
       "      <th>4</th>\n",
       "      <td>22000009094</td>\n",
       "      <td>7/03/2000</td>\n",
       "      <td>05.45.00</td>\n",
       "      <td>3</td>\n",
       "      <td>Struck animal</td>\n",
       "      <td>3</td>\n",
       "      <td>Tuesday</td>\n",
       "      <td>167</td>\n",
       "      <td>STRUCK ANIMAL</td>\n",
       "      <td>MEL</td>\n",
       "      <td>...</td>\n",
       "      <td>Brisbane Ranges National Park</td>\n",
       "      <td>NP</td>\n",
       "      <td>II</td>\n",
       "      <td>8,879</td>\n",
       "      <td>8,880</td>\n",
       "      <td>01/12/75</td>\n",
       "      <td>06/09/77</td>\n",
       "      <td>144.2397</td>\n",
       "      <td>-37.8411</td>\n",
       "      <td>SVP,VIM</td>\n",
       "    </tr>\n",
       "  </tbody>\n",
       "</table>\n",
       "<p>5 rows × 50 columns</p>\n",
       "</div>"
      ],
      "text/plain": [
       "   ACCIDENT_NO ACCIDENT_DATE ACCIDENT_TIME  ACCIDENT_TYPE ACCIDENT_TYPE_DESC  \\\n",
       "0  22000004456    22/01/2000      07.58.00              3      Struck animal   \n",
       "1  22000005220     4/02/2000      22.00.00              3      Struck animal   \n",
       "2  22000005532     6/02/2000      22.00.00              3      Struck animal   \n",
       "3  22000007624    20/02/2000      00.15.00              3      Struck animal   \n",
       "4  22000009094     7/03/2000      05.45.00              3      Struck animal   \n",
       "\n",
       "   DAY_OF_WEEK DAY_WEEK_DESC  DCA_CODE                               DCA_DESC  \\\n",
       "0            7      Saturday       167  STRUCK ANIMAL                           \n",
       "1            6        Friday       167  STRUCK ANIMAL                           \n",
       "2            1        Sunday       167  STRUCK ANIMAL                           \n",
       "3            1        Sunday       167  STRUCK ANIMAL                           \n",
       "4            3       Tuesday       167  STRUCK ANIMAL                           \n",
       "\n",
       "  DIRECTORY      ...                                Name TYPE ABBR IUCN  \\\n",
       "0       VCS      ...         Port Campbell National Park        NP   II   \n",
       "1       VCS      ...           Great Otway National Park        NP   II   \n",
       "2       VCS      ...          Mount Eccles National Park        NP   II   \n",
       "3       VCS      ...       Brisbane Ranges National Park        NP   II   \n",
       "4       MEL      ...       Brisbane Ranges National Park        NP   II   \n",
       "\n",
       "  Gazetted Area (ha)   Area (ha)  Declared  Latest Gazettal  Longitude  \\\n",
       "0             2,406       2,404   09/12/64         22/10/08   143.0748   \n",
       "1          1,04,034    1,03,985   11/12/05         02/10/12   143.8603   \n",
       "2             8,571       8,571   07/06/60         22/04/97   141.8848   \n",
       "3             8,879       8,880   01/12/75         06/09/77   144.2397   \n",
       "4             8,879       8,880   01/12/75         06/09/77   144.2397   \n",
       "\n",
       "   Latitude  IBRA Regions  \n",
       "0  -38.6466           SCP  \n",
       "1  -38.5977       SCP,SEH  \n",
       "2  -38.0820       SCP,SVP  \n",
       "3  -37.8411       SVP,VIM  \n",
       "4  -37.8411       SVP,VIM  \n",
       "\n",
       "[5 rows x 50 columns]"
      ]
     },
     "execution_count": 142,
     "metadata": {},
     "output_type": "execute_result"
    }
   ],
   "source": [
    "dfinal.head()"
   ]
  },
  {
   "cell_type": "code",
   "execution_count": 146,
   "metadata": {},
   "outputs": [],
   "source": [
    "dfinal.to_csv(\"ACCIDENT_AND_NATIONALPARK.csv\", index = False)"
   ]
  }
 ],
 "metadata": {
  "kernelspec": {
   "display_name": "Python 3",
   "language": "python",
   "name": "python3"
  },
  "language_info": {
   "codemirror_mode": {
    "name": "ipython",
    "version": 3
   },
   "file_extension": ".py",
   "mimetype": "text/x-python",
   "name": "python",
   "nbconvert_exporter": "python",
   "pygments_lexer": "ipython3",
   "version": "3.7.1"
  }
 },
 "nbformat": 4,
 "nbformat_minor": 2
}
